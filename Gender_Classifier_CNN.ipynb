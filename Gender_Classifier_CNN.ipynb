{
 "cells": [
  {
   "cell_type": "code",
   "execution_count": 1,
   "metadata": {},
   "outputs": [
    {
     "name": "stderr",
     "output_type": "stream",
     "text": [
      "D:\\I_S\\Anaconda\\lib\\site-packages\\paramiko\\transport.py:219: CryptographyDeprecationWarning: Blowfish has been deprecated\n",
      "  \"class\": algorithms.Blowfish,\n"
     ]
    }
   ],
   "source": [
    "import pandas as pd\n",
    "import librosa\n",
    "import librosa.display\n",
    "import numpy as np\n",
    "from sklearn.model_selection import train_test_split, GridSearchCV\n",
    "from keras_preprocessing.image import ImageDataGenerator\n",
    "from keras.layers import Dense, Activation, Flatten, Dropout, BatchNormalization\n",
    "from keras.models import Sequential, Model\n",
    "from keras.layers import Conv2D, MaxPooling2D\n",
    "import os\n",
    "import cv2\n",
    "import librosa.display\n",
    "import matplotlib.pyplot as plt\n",
    "import tensorflow as tf"
   ]
  },
  {
   "cell_type": "code",
   "execution_count": 4,
   "outputs": [
    {
     "name": "stdout",
     "output_type": "stream",
     "text": [
      "Collecting visualkeras\n",
      "  Downloading visualkeras-0.0.2-py3-none-any.whl (12 kB)\n",
      "Requirement already satisfied: numpy>=1.18.1 in d:\\i_s\\anaconda\\lib\\site-packages (from visualkeras) (1.21.5)\n",
      "Requirement already satisfied: pillow>=6.2.0 in d:\\i_s\\anaconda\\lib\\site-packages (from visualkeras) (9.2.0)\n",
      "Collecting aggdraw>=1.3.11\n",
      "  Downloading aggdraw-1.3.15-cp39-cp39-win_amd64.whl (43 kB)\n",
      "     -------------------------------------- 43.2/43.2 kB 531.6 kB/s eta 0:00:00\n",
      "Installing collected packages: aggdraw, visualkeras\n",
      "Successfully installed aggdraw-1.3.15 visualkeras-0.0.2\n"
     ]
    }
   ],
   "source": [
    "!pip install visualkeras"
   ],
   "metadata": {
    "collapsed": false
   }
  },
  {
   "cell_type": "code",
   "execution_count": 5,
   "outputs": [],
   "source": [
    "import visualkeras"
   ],
   "metadata": {
    "collapsed": false
   }
  },
  {
   "cell_type": "markdown",
   "metadata": {},
   "source": [
    "#### First step is to create a picture from the audio file"
   ]
  },
  {
   "cell_type": "code",
   "execution_count": 7,
   "metadata": {},
   "outputs": [],
   "source": [
    "#list the files\n",
    "filelist = os.listdir('males')\n",
    "male_voices =[]\n",
    "for i in filelist:\n",
    "    male_voices.append(os.path.join(\"males\",i))\n",
    "#read them into pandas\n",
    "df_male = pd.DataFrame(male_voices)"
   ]
  },
  {
   "cell_type": "code",
   "execution_count": 8,
   "metadata": {},
   "outputs": [],
   "source": [
    "# Adding the 1 label to the dataframe representing male\n",
    "df_male['label']='1'"
   ]
  },
  {
   "cell_type": "code",
   "execution_count": 9,
   "metadata": {},
   "outputs": [],
   "source": [
    "# Renaming the column name to file\n",
    "df_male = df_male.rename(columns={0:'file'})"
   ]
  },
  {
   "cell_type": "code",
   "execution_count": 10,
   "metadata": {},
   "outputs": [
    {
     "data": {
      "text/html": [
       "<div>\n",
       "<style scoped>\n",
       "    .dataframe tbody tr th:only-of-type {\n",
       "        vertical-align: middle;\n",
       "    }\n",
       "\n",
       "    .dataframe tbody tr th {\n",
       "        vertical-align: top;\n",
       "    }\n",
       "\n",
       "    .dataframe thead th {\n",
       "        text-align: right;\n",
       "    }\n",
       "</style>\n",
       "<table border=\"1\" class=\"dataframe\">\n",
       "  <thead>\n",
       "    <tr style=\"text-align: right;\">\n",
       "      <th></th>\n",
       "      <th>file</th>\n",
       "      <th>label</th>\n",
       "    </tr>\n",
       "  </thead>\n",
       "  <tbody>\n",
       "    <tr>\n",
       "      <th>0</th>\n",
       "      <td>males/3308.wav</td>\n",
       "      <td>1</td>\n",
       "    </tr>\n",
       "    <tr>\n",
       "      <th>1</th>\n",
       "      <td>males/862.wav</td>\n",
       "      <td>1</td>\n",
       "    </tr>\n",
       "    <tr>\n",
       "      <th>2</th>\n",
       "      <td>males/1710.wav</td>\n",
       "      <td>1</td>\n",
       "    </tr>\n",
       "    <tr>\n",
       "      <th>3</th>\n",
       "      <td>males/3558.wav</td>\n",
       "      <td>1</td>\n",
       "    </tr>\n",
       "    <tr>\n",
       "      <th>4</th>\n",
       "      <td>males/362.wav</td>\n",
       "      <td>1</td>\n",
       "    </tr>\n",
       "  </tbody>\n",
       "</table>\n",
       "</div>"
      ],
      "text/plain": [
       "             file label\n",
       "0  males/3308.wav     1\n",
       "1   males/862.wav     1\n",
       "2  males/1710.wav     1\n",
       "3  males/3558.wav     1\n",
       "4   males/362.wav     1"
      ]
     },
     "execution_count": 10,
     "metadata": {},
     "output_type": "execute_result"
    }
   ],
   "source": [
    "df_male.head()"
   ]
  },
  {
   "cell_type": "code",
   "execution_count": 11,
   "metadata": {},
   "outputs": [
    {
     "data": {
      "text/plain": [
       "(3682, 2)"
      ]
     },
     "execution_count": 11,
     "metadata": {},
     "output_type": "execute_result"
    }
   ],
   "source": [
    "df_male.shape"
   ]
  },
  {
   "cell_type": "code",
   "execution_count": 12,
   "metadata": {},
   "outputs": [],
   "source": [
    "filelist = os.listdir('females')\n",
    "female_voices =[]\n",
    "for i in filelist:\n",
    "    female_voices.append(os.path.join(\"females\",i))\n",
    "#read them into pandas\n",
    "df_female = pd.DataFrame(female_voices)"
   ]
  },
  {
   "cell_type": "code",
   "execution_count": 13,
   "metadata": {},
   "outputs": [],
   "source": [
    "df_female['label']='0'"
   ]
  },
  {
   "cell_type": "code",
   "execution_count": 14,
   "metadata": {},
   "outputs": [],
   "source": [
    "df_female = df_female.rename(columns={0:'file'})"
   ]
  },
  {
   "cell_type": "code",
   "execution_count": 15,
   "metadata": {},
   "outputs": [
    {
     "data": {
      "text/html": [
       "<div>\n",
       "<style scoped>\n",
       "    .dataframe tbody tr th:only-of-type {\n",
       "        vertical-align: middle;\n",
       "    }\n",
       "\n",
       "    .dataframe tbody tr th {\n",
       "        vertical-align: top;\n",
       "    }\n",
       "\n",
       "    .dataframe thead th {\n",
       "        text-align: right;\n",
       "    }\n",
       "</style>\n",
       "<table border=\"1\" class=\"dataframe\">\n",
       "  <thead>\n",
       "    <tr style=\"text-align: right;\">\n",
       "      <th></th>\n",
       "      <th>file</th>\n",
       "      <th>label</th>\n",
       "    </tr>\n",
       "  </thead>\n",
       "  <tbody>\n",
       "    <tr>\n",
       "      <th>0</th>\n",
       "      <td>females/862.wav</td>\n",
       "      <td>0</td>\n",
       "    </tr>\n",
       "    <tr>\n",
       "      <th>1</th>\n",
       "      <td>females/1710.wav</td>\n",
       "      <td>0</td>\n",
       "    </tr>\n",
       "    <tr>\n",
       "      <th>2</th>\n",
       "      <td>females/362.wav</td>\n",
       "      <td>0</td>\n",
       "    </tr>\n",
       "    <tr>\n",
       "      <th>3</th>\n",
       "      <td>females/1636.wav</td>\n",
       "      <td>0</td>\n",
       "    </tr>\n",
       "    <tr>\n",
       "      <th>4</th>\n",
       "      <td>females/677.wav</td>\n",
       "      <td>0</td>\n",
       "    </tr>\n",
       "  </tbody>\n",
       "</table>\n",
       "</div>"
      ],
      "text/plain": [
       "               file label\n",
       "0   females/862.wav     0\n",
       "1  females/1710.wav     0\n",
       "2   females/362.wav     0\n",
       "3  females/1636.wav     0\n",
       "4   females/677.wav     0"
      ]
     },
     "execution_count": 15,
     "metadata": {},
     "output_type": "execute_result"
    }
   ],
   "source": [
    "df_female.head()"
   ]
  },
  {
   "cell_type": "code",
   "execution_count": 16,
   "metadata": {},
   "outputs": [
    {
     "data": {
      "text/plain": [
       "(2311, 2)"
      ]
     },
     "execution_count": 16,
     "metadata": {},
     "output_type": "execute_result"
    }
   ],
   "source": [
    "df_female.shape"
   ]
  },
  {
   "cell_type": "code",
   "execution_count": 74,
   "metadata": {},
   "outputs": [],
   "source": [
    "df = pd.concat([df_female, df_male], ignore_index=True)"
   ]
  },
  {
   "cell_type": "code",
   "execution_count": 75,
   "metadata": {},
   "outputs": [
    {
     "data": {
      "text/html": [
       "<div>\n",
       "<style scoped>\n",
       "    .dataframe tbody tr th:only-of-type {\n",
       "        vertical-align: middle;\n",
       "    }\n",
       "\n",
       "    .dataframe tbody tr th {\n",
       "        vertical-align: top;\n",
       "    }\n",
       "\n",
       "    .dataframe thead th {\n",
       "        text-align: right;\n",
       "    }\n",
       "</style>\n",
       "<table border=\"1\" class=\"dataframe\">\n",
       "  <thead>\n",
       "    <tr style=\"text-align: right;\">\n",
       "      <th></th>\n",
       "      <th>file</th>\n",
       "      <th>label</th>\n",
       "    </tr>\n",
       "  </thead>\n",
       "  <tbody>\n",
       "    <tr>\n",
       "      <th>0</th>\n",
       "      <td>females\\0.wav</td>\n",
       "      <td>0</td>\n",
       "    </tr>\n",
       "    <tr>\n",
       "      <th>1</th>\n",
       "      <td>females\\1.wav</td>\n",
       "      <td>0</td>\n",
       "    </tr>\n",
       "    <tr>\n",
       "      <th>2</th>\n",
       "      <td>females\\10.wav</td>\n",
       "      <td>0</td>\n",
       "    </tr>\n",
       "    <tr>\n",
       "      <th>3</th>\n",
       "      <td>females\\100.wav</td>\n",
       "      <td>0</td>\n",
       "    </tr>\n",
       "    <tr>\n",
       "      <th>4</th>\n",
       "      <td>females\\1000.wav</td>\n",
       "      <td>0</td>\n",
       "    </tr>\n",
       "  </tbody>\n",
       "</table>\n",
       "</div>"
      ],
      "text/plain": [
       "               file label\n",
       "0     females\\0.wav     0\n",
       "1     females\\1.wav     0\n",
       "2    females\\10.wav     0\n",
       "3   females\\100.wav     0\n",
       "4  females\\1000.wav     0"
      ]
     },
     "execution_count": 75,
     "metadata": {},
     "output_type": "execute_result"
    }
   ],
   "source": [
    "df.head()"
   ]
  },
  {
   "cell_type": "code",
   "execution_count": 76,
   "metadata": {},
   "outputs": [],
   "source": [
    "# Randomizing our files to be able to split into train, validation and test\n",
    "df = df.sample(frac=1, random_state=42).reset_index(drop=True)"
   ]
  },
  {
   "cell_type": "code",
   "execution_count": 77,
   "metadata": {},
   "outputs": [
    {
     "data": {
      "text/plain": [
       "(5993, 2)"
      ]
     },
     "execution_count": 77,
     "metadata": {},
     "output_type": "execute_result"
    }
   ],
   "source": [
    "df.shape"
   ]
  },
  {
   "cell_type": "code",
   "execution_count": 78,
   "metadata": {},
   "outputs": [],
   "source": [
    "df_train , df_test = train_test_split(df, test_size=(0.2))"
   ]
  },
  {
   "cell_type": "code",
   "execution_count": 79,
   "metadata": {},
   "outputs": [
    {
     "name": "stdout",
     "output_type": "stream",
     "text": [
      "(4794, 2)\n",
      "(1199, 2)\n"
     ]
    }
   ],
   "source": [
    "print(df_train.shape)\n",
    "print(df_test.shape)"
   ]
  },
  {
   "cell_type": "code",
   "execution_count": 1,
   "metadata": {},
   "outputs": [
    {
     "data": {
      "text/plain": [
       "5993"
      ]
     },
     "execution_count": 1,
     "metadata": {},
     "output_type": "execute_result"
    }
   ],
   "source": [
    "4794+1199"
   ]
  },
  {
   "cell_type": "code",
   "execution_count": 80,
   "metadata": {},
   "outputs": [
    {
     "data": {
      "text/plain": [
       "1    0.612224\n",
       "0    0.387776\n",
       "Name: label, dtype: float64"
      ]
     },
     "execution_count": 80,
     "metadata": {},
     "output_type": "execute_result"
    }
   ],
   "source": [
    "df_train['label'].value_counts(normalize=True)"
   ]
  },
  {
   "cell_type": "code",
   "execution_count": 81,
   "metadata": {},
   "outputs": [
    {
     "data": {
      "text/plain": [
       "1    0.623019\n",
       "0    0.376981\n",
       "Name: label, dtype: float64"
      ]
     },
     "execution_count": 81,
     "metadata": {},
     "output_type": "execute_result"
    }
   ],
   "source": [
    "df_test['label'].value_counts(normalize=True)"
   ]
  },
  {
   "cell_type": "code",
   "execution_count": 82,
   "metadata": {},
   "outputs": [
    {
     "data": {
      "text/html": [
       "<div>\n",
       "<style scoped>\n",
       "    .dataframe tbody tr th:only-of-type {\n",
       "        vertical-align: middle;\n",
       "    }\n",
       "\n",
       "    .dataframe tbody tr th {\n",
       "        vertical-align: top;\n",
       "    }\n",
       "\n",
       "    .dataframe thead th {\n",
       "        text-align: right;\n",
       "    }\n",
       "</style>\n",
       "<table border=\"1\" class=\"dataframe\">\n",
       "  <thead>\n",
       "    <tr style=\"text-align: right;\">\n",
       "      <th></th>\n",
       "      <th>file</th>\n",
       "      <th>label</th>\n",
       "    </tr>\n",
       "  </thead>\n",
       "  <tbody>\n",
       "    <tr>\n",
       "      <th>2488</th>\n",
       "      <td>females\\1979.wav</td>\n",
       "      <td>0</td>\n",
       "    </tr>\n",
       "    <tr>\n",
       "      <th>3403</th>\n",
       "      <td>males\\935.wav</td>\n",
       "      <td>1</td>\n",
       "    </tr>\n",
       "    <tr>\n",
       "      <th>5636</th>\n",
       "      <td>males\\1912.wav</td>\n",
       "      <td>1</td>\n",
       "    </tr>\n",
       "    <tr>\n",
       "      <th>4488</th>\n",
       "      <td>females\\777.wav</td>\n",
       "      <td>0</td>\n",
       "    </tr>\n",
       "    <tr>\n",
       "      <th>2881</th>\n",
       "      <td>males\\695.wav</td>\n",
       "      <td>1</td>\n",
       "    </tr>\n",
       "  </tbody>\n",
       "</table>\n",
       "</div>"
      ],
      "text/plain": [
       "                  file label\n",
       "2488  females\\1979.wav     0\n",
       "3403     males\\935.wav     1\n",
       "5636    males\\1912.wav     1\n",
       "4488   females\\777.wav     0\n",
       "2881     males\\695.wav     1"
      ]
     },
     "execution_count": 82,
     "metadata": {},
     "output_type": "execute_result"
    }
   ],
   "source": [
    "df_train.head()"
   ]
  },
  {
   "cell_type": "markdown",
   "metadata": {},
   "source": [
    "#### Visualizing the melspectrogram (We will explain soon how to create this images)"
   ]
  },
  {
   "cell_type": "code",
   "execution_count": 83,
   "metadata": {},
   "outputs": [],
   "source": [
    "# Randomly choosing one of the audio files\n",
    "filename = \"females\\\\56.wav\""
   ]
  },
  {
   "cell_type": "code",
   "execution_count": 84,
   "metadata": {},
   "outputs": [
    {
     "data": {
      "image/png": "[encoded data removed]",
      "text/plain": [
       "<Figure size 432x288 with 1 Axes>"
      ]
     },
     "metadata": {
      "needs_background": "light"
     },
     "output_type": "display_data"
    }
   ],
   "source": [
    "# Checking how the image looks like with the frequency restriction\n",
    "X, sample_rate = librosa.load(filename, sr=None, res_type='kaiser_fast')\n",
    "S = librosa.feature.melspectrogram(y=X, sr=sample_rate)\n",
    "librosa.display.specshow(librosa.power_to_db(S, ref=np.max), x_axis='time', y_axis='mel', fmin=50, fmax=280)\n",
    "plt.show()"
   ]
  },
  {
   "cell_type": "markdown",
   "metadata": {},
   "source": [
    "Using a function to generate and save the melspectrogram for each audio file"
   ]
  },
  {
   "cell_type": "code",
   "execution_count": 89,
   "metadata": {},
   "outputs": [],
   "source": [
    "# Although this function was modified and many parameteres were explored with, most of it\n",
    "# came from Source 18 (sources in the READ.ME)\n",
    "\n",
    "def images(files):\n",
    "    \n",
    "    # We define the audiofile from the rows of the dataframe when we iterate through\n",
    "    # every row of our dataframe for train, val and test\n",
    "    audiofile = os.path.join(os.path.abspath(str(files.file)))\n",
    "    \n",
    "    # Loading the image with no sample rate to use the original sample rate and\n",
    "    # kaiser_fast to make the speed faster according to a blog post about it (on references)\n",
    "    X, sample_rate = librosa.load(audiofile, sr=None, res_type='kaiser_fast')\n",
    "   \n",
    "    # Setting the size of the image\n",
    "    fig = plt.figure(figsize=[1,1])\n",
    "    \n",
    "    # This is to get rid of the axes and only get the picture \n",
    "    ax = fig.add_subplot(111)\n",
    "    ax.axes.get_xaxis().set_visible(False)\n",
    "    ax.axes.get_yaxis().set_visible(False)\n",
    "    ax.set_frame_on(False)\n",
    "    \n",
    "    # This is the melspectrogram from the decibels with a linear relationship\n",
    "    # Setting min and max frequency to account for human voice frequency\n",
    "    S = librosa.feature.melspectrogram(y=X, sr=sample_rate)\n",
    "    librosa.display.specshow(librosa.power_to_db(S, ref=np.max), x_axis='time', y_axis='mel', fmin=50, fmax=280)\n",
    "    \n",
    "    # Here we choose the path and the name to save the file, we will change the path when\n",
    "    # using the function for train, val and test to make the function easy to use and output\n",
    "    # the images in different folders to use later with a generator\n",
    "    name = files.file\n",
    "    name1 = str(name).replace(\".wav\",\"\")\n",
    "    file  =  os.path.join('test_images',(name1)+'.jpg')\n",
    "    \n",
    "    # Here we finally save the image file choosing the resolution \n",
    "    plt.savefig(file, dpi=500, bbox_inches='tight',pad_inches=0)\n",
    "    \n",
    "    # Here we close the image because otherwise we get a warning saying that the image stays\n",
    "    # open and consumes memory\n",
    "    plt.close()"
   ]
  },
  {
   "cell_type": "markdown",
   "metadata": {},
   "source": [
    "Now we load the dataframe and slice the data into train, validation and testing data like before. Again, 3435 for training, 1000 for validation and 1000 for testing."
   ]
  },
  {
   "cell_type": "code",
   "execution_count": 86,
   "metadata": {},
   "outputs": [],
   "source": [
    "train = df_train\n",
    "val = df_test\n",
    "test = df_test"
   ]
  },
  {
   "cell_type": "markdown",
   "metadata": {},
   "source": [
    "We use the function to create all the images from train, val and test"
   ]
  },
  {
   "cell_type": "code",
   "execution_count": 88,
   "metadata": {},
   "outputs": [],
   "source": [
    "train.apply(images, axis=1);"
   ]
  },
  {
   "cell_type": "code",
   "execution_count": 90,
   "metadata": {},
   "outputs": [],
   "source": [
    "test.apply(images, axis=1);"
   ]
  },
  {
   "cell_type": "code",
   "execution_count": 91,
   "metadata": {},
   "outputs": [],
   "source": [
    "plt.close('all')"
   ]
  },
  {
   "cell_type": "code",
   "execution_count": 92,
   "metadata": {},
   "outputs": [],
   "source": [
    "# Code to let us know when the code finishes running\n",
    "os.system('say -v Juan ya acabé');"
   ]
  },
  {
   "cell_type": "markdown",
   "metadata": {},
   "source": [
    "We will use the datagen.flow_from_dataframe from the keras documentation to use with the CNN\n",
    "https://keras.io/preprocessing/image/"
   ]
  },
  {
   "cell_type": "markdown",
   "metadata": {
    "scrolled": false
   },
   "source": [
    "![keras](img/keras.jpg)"
   ]
  },
  {
   "cell_type": "markdown",
   "metadata": {},
   "source": []
  },
  {
   "cell_type": "markdown",
   "metadata": {},
   "source": []
  },
  {
   "cell_type": "markdown",
   "metadata": {},
   "source": [
    " <h1>NEW DATASET with Third Class Representing Noise For finding distance</h1>"
   ]
  },
  {
   "cell_type": "markdown",
   "metadata": {},
   "source": [
    "<h1>Loading Generated Spectograms of wav files</h1>"
   ]
  },
  {
   "cell_type": "markdown",
   "metadata": {},
   "source": [
    "<h1>Loading trainning images</h1>"
   ]
  },
  {
   "cell_type": "code",
   "execution_count": 4,
   "metadata": {},
   "outputs": [
    {
     "data": {
      "text/plain": [
       "['train_images/males/00004 (61).jpg',\n",
       " 'train_images/males/2789.jpg',\n",
       " 'train_images/males/00042 (4).jpg',\n",
       " 'train_images/males/sample-002725.jpg',\n",
       " 'train_images/males/383.jpg']"
      ]
     },
     "execution_count": 4,
     "metadata": {},
     "output_type": "execute_result"
    }
   ],
   "source": [
    "train_males = os.listdir(\"train_images/males\")\n",
    "train_male_voices_images=[]\n",
    "for image in train_males:\n",
    "    train_male_voices_images.append(os.path.join(\"train_images/males\",image))\n",
    "train_male_voices_images[:5]"
   ]
  },
  {
   "cell_type": "code",
   "execution_count": 5,
   "metadata": {},
   "outputs": [
    {
     "data": {
      "text/plain": [
       "6292"
      ]
     },
     "execution_count": 5,
     "metadata": {},
     "output_type": "execute_result"
    }
   ],
   "source": [
    "len(train_male_voices_images)"
   ]
  },
  {
   "cell_type": "code",
   "execution_count": 6,
   "metadata": {},
   "outputs": [
    {
     "data": {
      "text/html": [
       "<div>\n",
       "<style scoped>\n",
       "    .dataframe tbody tr th:only-of-type {\n",
       "        vertical-align: middle;\n",
       "    }\n",
       "\n",
       "    .dataframe tbody tr th {\n",
       "        vertical-align: top;\n",
       "    }\n",
       "\n",
       "    .dataframe thead th {\n",
       "        text-align: right;\n",
       "    }\n",
       "</style>\n",
       "<table border=\"1\" class=\"dataframe\">\n",
       "  <thead>\n",
       "    <tr style=\"text-align: right;\">\n",
       "      <th></th>\n",
       "      <th>Image</th>\n",
       "      <th>Label</th>\n",
       "    </tr>\n",
       "  </thead>\n",
       "  <tbody>\n",
       "    <tr>\n",
       "      <th>0</th>\n",
       "      <td>train_images/males/00004 (61).jpg</td>\n",
       "      <td>M</td>\n",
       "    </tr>\n",
       "    <tr>\n",
       "      <th>1</th>\n",
       "      <td>train_images/males/2789.jpg</td>\n",
       "      <td>M</td>\n",
       "    </tr>\n",
       "    <tr>\n",
       "      <th>2</th>\n",
       "      <td>train_images/males/00042 (4).jpg</td>\n",
       "      <td>M</td>\n",
       "    </tr>\n",
       "    <tr>\n",
       "      <th>3</th>\n",
       "      <td>train_images/males/sample-002725.jpg</td>\n",
       "      <td>M</td>\n",
       "    </tr>\n",
       "    <tr>\n",
       "      <th>4</th>\n",
       "      <td>train_images/males/383.jpg</td>\n",
       "      <td>M</td>\n",
       "    </tr>\n",
       "  </tbody>\n",
       "</table>\n",
       "</div>"
      ],
      "text/plain": [
       "                                  Image Label\n",
       "0     train_images/males/00004 (61).jpg     M\n",
       "1           train_images/males/2789.jpg     M\n",
       "2      train_images/males/00042 (4).jpg     M\n",
       "3  train_images/males/sample-002725.jpg     M\n",
       "4            train_images/males/383.jpg     M"
      ]
     },
     "execution_count": 6,
     "metadata": {},
     "output_type": "execute_result"
    }
   ],
   "source": [
    "train_males_df = pd.DataFrame(train_male_voices_images)\n",
    "train_males_df.columns = ['Image']\n",
    "train_males_df['Label']=\"M\"\n",
    "train_males_df.head()"
   ]
  },
  {
   "cell_type": "code",
   "execution_count": 7,
   "metadata": {},
   "outputs": [
    {
     "data": {
      "text/plain": [
       "['train_images/females/00004 (61).jpg',\n",
       " 'train_images/females/383.jpg',\n",
       " 'train_images/females/00033 (10).jpg',\n",
       " 'train_images/females/00026 (12).jpg',\n",
       " 'train_images/females/00018 (22).jpg']"
      ]
     },
     "execution_count": 7,
     "metadata": {},
     "output_type": "execute_result"
    }
   ],
   "source": [
    "train_females = os.listdir(\"train_images/females\")\n",
    "train_female_voices_images=[]\n",
    "for image in train_females:\n",
    "    train_female_voices_images.append(os.path.join(\"train_images/females\",image))\n",
    "train_female_voices_images[:5]"
   ]
  },
  {
   "cell_type": "code",
   "execution_count": 8,
   "metadata": {},
   "outputs": [
    {
     "data": {
      "text/html": [
       "<div>\n",
       "<style scoped>\n",
       "    .dataframe tbody tr th:only-of-type {\n",
       "        vertical-align: middle;\n",
       "    }\n",
       "\n",
       "    .dataframe tbody tr th {\n",
       "        vertical-align: top;\n",
       "    }\n",
       "\n",
       "    .dataframe thead th {\n",
       "        text-align: right;\n",
       "    }\n",
       "</style>\n",
       "<table border=\"1\" class=\"dataframe\">\n",
       "  <thead>\n",
       "    <tr style=\"text-align: right;\">\n",
       "      <th></th>\n",
       "      <th>Image</th>\n",
       "      <th>Label</th>\n",
       "    </tr>\n",
       "  </thead>\n",
       "  <tbody>\n",
       "    <tr>\n",
       "      <th>0</th>\n",
       "      <td>train_images/females/00004 (61).jpg</td>\n",
       "      <td>F</td>\n",
       "    </tr>\n",
       "    <tr>\n",
       "      <th>1</th>\n",
       "      <td>train_images/females/383.jpg</td>\n",
       "      <td>F</td>\n",
       "    </tr>\n",
       "    <tr>\n",
       "      <th>2</th>\n",
       "      <td>train_images/females/00033 (10).jpg</td>\n",
       "      <td>F</td>\n",
       "    </tr>\n",
       "    <tr>\n",
       "      <th>3</th>\n",
       "      <td>train_images/females/00026 (12).jpg</td>\n",
       "      <td>F</td>\n",
       "    </tr>\n",
       "    <tr>\n",
       "      <th>4</th>\n",
       "      <td>train_images/females/00018 (22).jpg</td>\n",
       "      <td>F</td>\n",
       "    </tr>\n",
       "  </tbody>\n",
       "</table>\n",
       "</div>"
      ],
      "text/plain": [
       "                                 Image Label\n",
       "0  train_images/females/00004 (61).jpg     F\n",
       "1         train_images/females/383.jpg     F\n",
       "2  train_images/females/00033 (10).jpg     F\n",
       "3  train_images/females/00026 (12).jpg     F\n",
       "4  train_images/females/00018 (22).jpg     F"
      ]
     },
     "execution_count": 8,
     "metadata": {},
     "output_type": "execute_result"
    }
   ],
   "source": [
    "train_females_df = pd.DataFrame(train_female_voices_images)\n",
    "train_females_df.columns = ['Image']\n",
    "train_females_df['Label']=\"F\"\n",
    "train_females_df.head()"
   ]
  },
  {
   "cell_type": "code",
   "execution_count": 9,
   "metadata": {},
   "outputs": [
    {
     "data": {
      "text/plain": [
       "['train_images/noise/54898-8-0-8.jpg',\n",
       " 'train_images/noise/47926-3-1-0.jpg',\n",
       " 'train_images/noise/49769-5-0-0.jpg',\n",
       " 'train_images/noise/149177-6-0-0.jpg',\n",
       " 'train_images/noise/103199-4-2-5.jpg']"
      ]
     },
     "execution_count": 9,
     "metadata": {},
     "output_type": "execute_result"
    }
   ],
   "source": [
    "train_noise = os.listdir(\"train_images/noise\")\n",
    "train_noise_voices_images=[]\n",
    "for image in train_noise:\n",
    "    train_noise_voices_images.append(os.path.join(\"train_images/noise\",image))\n",
    "train_noise_voices_images[:5]"
   ]
  },
  {
   "cell_type": "code",
   "execution_count": 10,
   "metadata": {},
   "outputs": [
    {
     "data": {
      "text/html": [
       "<div>\n",
       "<style scoped>\n",
       "    .dataframe tbody tr th:only-of-type {\n",
       "        vertical-align: middle;\n",
       "    }\n",
       "\n",
       "    .dataframe tbody tr th {\n",
       "        vertical-align: top;\n",
       "    }\n",
       "\n",
       "    .dataframe thead th {\n",
       "        text-align: right;\n",
       "    }\n",
       "</style>\n",
       "<table border=\"1\" class=\"dataframe\">\n",
       "  <thead>\n",
       "    <tr style=\"text-align: right;\">\n",
       "      <th></th>\n",
       "      <th>Image</th>\n",
       "      <th>Label</th>\n",
       "    </tr>\n",
       "  </thead>\n",
       "  <tbody>\n",
       "    <tr>\n",
       "      <th>0</th>\n",
       "      <td>train_images/noise/54898-8-0-8.jpg</td>\n",
       "      <td>N</td>\n",
       "    </tr>\n",
       "    <tr>\n",
       "      <th>1</th>\n",
       "      <td>train_images/noise/47926-3-1-0.jpg</td>\n",
       "      <td>N</td>\n",
       "    </tr>\n",
       "    <tr>\n",
       "      <th>2</th>\n",
       "      <td>train_images/noise/49769-5-0-0.jpg</td>\n",
       "      <td>N</td>\n",
       "    </tr>\n",
       "    <tr>\n",
       "      <th>3</th>\n",
       "      <td>train_images/noise/149177-6-0-0.jpg</td>\n",
       "      <td>N</td>\n",
       "    </tr>\n",
       "    <tr>\n",
       "      <th>4</th>\n",
       "      <td>train_images/noise/103199-4-2-5.jpg</td>\n",
       "      <td>N</td>\n",
       "    </tr>\n",
       "  </tbody>\n",
       "</table>\n",
       "</div>"
      ],
      "text/plain": [
       "                                 Image Label\n",
       "0   train_images/noise/54898-8-0-8.jpg     N\n",
       "1   train_images/noise/47926-3-1-0.jpg     N\n",
       "2   train_images/noise/49769-5-0-0.jpg     N\n",
       "3  train_images/noise/149177-6-0-0.jpg     N\n",
       "4  train_images/noise/103199-4-2-5.jpg     N"
      ]
     },
     "execution_count": 10,
     "metadata": {},
     "output_type": "execute_result"
    }
   ],
   "source": [
    "train_noise_df = pd.DataFrame(train_noise_voices_images)\n",
    "train_noise_df.columns = ['Image']\n",
    "train_noise_df['Label']=\"N\"\n",
    "train_noise_df.head()"
   ]
  },
  {
   "cell_type": "code",
   "execution_count": 11,
   "metadata": {},
   "outputs": [
    {
     "data": {
      "text/html": [
       "<div>\n",
       "<style scoped>\n",
       "    .dataframe tbody tr th:only-of-type {\n",
       "        vertical-align: middle;\n",
       "    }\n",
       "\n",
       "    .dataframe tbody tr th {\n",
       "        vertical-align: top;\n",
       "    }\n",
       "\n",
       "    .dataframe thead th {\n",
       "        text-align: right;\n",
       "    }\n",
       "</style>\n",
       "<table border=\"1\" class=\"dataframe\">\n",
       "  <thead>\n",
       "    <tr style=\"text-align: right;\">\n",
       "      <th></th>\n",
       "      <th>Image</th>\n",
       "      <th>Label</th>\n",
       "    </tr>\n",
       "  </thead>\n",
       "  <tbody>\n",
       "    <tr>\n",
       "      <th>13866</th>\n",
       "      <td>train_images/males/sample-003203.jpg</td>\n",
       "      <td>M</td>\n",
       "    </tr>\n",
       "    <tr>\n",
       "      <th>13867</th>\n",
       "      <td>train_images/noise/135526-6-0-0.jpg</td>\n",
       "      <td>N</td>\n",
       "    </tr>\n",
       "    <tr>\n",
       "      <th>13868</th>\n",
       "      <td>train_images/males/sample-000716.jpg</td>\n",
       "      <td>M</td>\n",
       "    </tr>\n",
       "    <tr>\n",
       "      <th>13869</th>\n",
       "      <td>train_images/males/sample-003786.jpg</td>\n",
       "      <td>M</td>\n",
       "    </tr>\n",
       "    <tr>\n",
       "      <th>13870</th>\n",
       "      <td>train_images/females/397.jpg</td>\n",
       "      <td>F</td>\n",
       "    </tr>\n",
       "  </tbody>\n",
       "</table>\n",
       "</div>"
      ],
      "text/plain": [
       "                                      Image Label\n",
       "13866  train_images/males/sample-003203.jpg     M\n",
       "13867   train_images/noise/135526-6-0-0.jpg     N\n",
       "13868  train_images/males/sample-000716.jpg     M\n",
       "13869  train_images/males/sample-003786.jpg     M\n",
       "13870          train_images/females/397.jpg     F"
      ]
     },
     "execution_count": 11,
     "metadata": {},
     "output_type": "execute_result"
    }
   ],
   "source": [
    "train_data = pd.concat([train_males_df, train_females_df, train_noise_df], axis=0)\n",
    "train_data = train_data.sample(frac=1,  random_state=42).reset_index(drop=True)\n",
    "train_data.tail()"
   ]
  },
  {
   "cell_type": "markdown",
   "metadata": {},
   "source": []
  },
  {
   "cell_type": "markdown",
   "metadata": {},
   "source": [
    "<h1>Loading Testing images</h1>\n"
   ]
  },
  {
   "cell_type": "code",
   "execution_count": 12,
   "metadata": {},
   "outputs": [
    {
     "data": {
      "text/plain": [
       "['test_images/males/3055.jpg',\n",
       " 'test_images/males/1110.jpg',\n",
       " 'test_images/males/3371.jpg',\n",
       " 'test_images/males/147.jpg',\n",
       " 'test_images/males/504.jpg']"
      ]
     },
     "execution_count": 12,
     "metadata": {},
     "output_type": "execute_result"
    }
   ],
   "source": [
    "test_males = os.listdir(\"test_images/males\")\n",
    "test_male_voices_images=[]\n",
    "for image in test_males:\n",
    "    test_male_voices_images.append(os.path.join(\"test_images/males\",image))\n",
    "test_male_voices_images[:5]"
   ]
  },
  {
   "cell_type": "code",
   "execution_count": 13,
   "metadata": {},
   "outputs": [
    {
     "data": {
      "text/plain": [
       "['test_images/females/1872.jpg',\n",
       " 'test_images/females/147.jpg',\n",
       " 'test_images/females/1716.jpg',\n",
       " 'test_images/females/504.jpg',\n",
       " 'test_images/females/202.jpg']"
      ]
     },
     "execution_count": 13,
     "metadata": {},
     "output_type": "execute_result"
    }
   ],
   "source": [
    "test_females = os.listdir(\"test_images/females\")\n",
    "test_female_voices_images=[]\n",
    "for image in test_females:\n",
    "    test_female_voices_images.append(os.path.join(\"test_images/females\",image))\n",
    "test_female_voices_images[:5]"
   ]
  },
  {
   "cell_type": "code",
   "execution_count": 14,
   "metadata": {},
   "outputs": [
    {
     "data": {
      "text/html": [
       "<div>\n",
       "<style scoped>\n",
       "    .dataframe tbody tr th:only-of-type {\n",
       "        vertical-align: middle;\n",
       "    }\n",
       "\n",
       "    .dataframe tbody tr th {\n",
       "        vertical-align: top;\n",
       "    }\n",
       "\n",
       "    .dataframe thead th {\n",
       "        text-align: right;\n",
       "    }\n",
       "</style>\n",
       "<table border=\"1\" class=\"dataframe\">\n",
       "  <thead>\n",
       "    <tr style=\"text-align: right;\">\n",
       "      <th></th>\n",
       "      <th>Image</th>\n",
       "      <th>Label</th>\n",
       "    </tr>\n",
       "  </thead>\n",
       "  <tbody>\n",
       "    <tr>\n",
       "      <th>0</th>\n",
       "      <td>test_images/females/1872.jpg</td>\n",
       "      <td>F</td>\n",
       "    </tr>\n",
       "    <tr>\n",
       "      <th>1</th>\n",
       "      <td>test_images/females/147.jpg</td>\n",
       "      <td>F</td>\n",
       "    </tr>\n",
       "    <tr>\n",
       "      <th>2</th>\n",
       "      <td>test_images/females/1716.jpg</td>\n",
       "      <td>F</td>\n",
       "    </tr>\n",
       "    <tr>\n",
       "      <th>3</th>\n",
       "      <td>test_images/females/504.jpg</td>\n",
       "      <td>F</td>\n",
       "    </tr>\n",
       "    <tr>\n",
       "      <th>4</th>\n",
       "      <td>test_images/females/202.jpg</td>\n",
       "      <td>F</td>\n",
       "    </tr>\n",
       "  </tbody>\n",
       "</table>\n",
       "</div>"
      ],
      "text/plain": [
       "                          Image Label\n",
       "0  test_images/females/1872.jpg     F\n",
       "1   test_images/females/147.jpg     F\n",
       "2  test_images/females/1716.jpg     F\n",
       "3   test_images/females/504.jpg     F\n",
       "4   test_images/females/202.jpg     F"
      ]
     },
     "execution_count": 14,
     "metadata": {},
     "output_type": "execute_result"
    }
   ],
   "source": [
    "test_females_df = pd.DataFrame(test_female_voices_images)\n",
    "test_females_df.columns = ['Image']\n",
    "test_females_df['Label']=\"F\"\n",
    "test_females_df.head()"
   ]
  },
  {
   "cell_type": "code",
   "execution_count": 15,
   "metadata": {},
   "outputs": [
    {
     "data": {
      "text/html": [
       "<div>\n",
       "<style scoped>\n",
       "    .dataframe tbody tr th:only-of-type {\n",
       "        vertical-align: middle;\n",
       "    }\n",
       "\n",
       "    .dataframe tbody tr th {\n",
       "        vertical-align: top;\n",
       "    }\n",
       "\n",
       "    .dataframe thead th {\n",
       "        text-align: right;\n",
       "    }\n",
       "</style>\n",
       "<table border=\"1\" class=\"dataframe\">\n",
       "  <thead>\n",
       "    <tr style=\"text-align: right;\">\n",
       "      <th></th>\n",
       "      <th>Image</th>\n",
       "      <th>Label</th>\n",
       "    </tr>\n",
       "  </thead>\n",
       "  <tbody>\n",
       "    <tr>\n",
       "      <th>0</th>\n",
       "      <td>test_images/males/3055.jpg</td>\n",
       "      <td>M</td>\n",
       "    </tr>\n",
       "    <tr>\n",
       "      <th>1</th>\n",
       "      <td>test_images/males/1110.jpg</td>\n",
       "      <td>M</td>\n",
       "    </tr>\n",
       "    <tr>\n",
       "      <th>2</th>\n",
       "      <td>test_images/males/3371.jpg</td>\n",
       "      <td>M</td>\n",
       "    </tr>\n",
       "    <tr>\n",
       "      <th>3</th>\n",
       "      <td>test_images/males/147.jpg</td>\n",
       "      <td>M</td>\n",
       "    </tr>\n",
       "    <tr>\n",
       "      <th>4</th>\n",
       "      <td>test_images/males/504.jpg</td>\n",
       "      <td>M</td>\n",
       "    </tr>\n",
       "  </tbody>\n",
       "</table>\n",
       "</div>"
      ],
      "text/plain": [
       "                        Image Label\n",
       "0  test_images/males/3055.jpg     M\n",
       "1  test_images/males/1110.jpg     M\n",
       "2  test_images/males/3371.jpg     M\n",
       "3   test_images/males/147.jpg     M\n",
       "4   test_images/males/504.jpg     M"
      ]
     },
     "execution_count": 15,
     "metadata": {},
     "output_type": "execute_result"
    }
   ],
   "source": [
    "test_males_df = pd.DataFrame(test_male_voices_images)\n",
    "test_males_df.columns = ['Image']\n",
    "test_males_df['Label']=\"M\"\n",
    "test_males_df.head()"
   ]
  },
  {
   "cell_type": "code",
   "execution_count": 15,
   "metadata": {},
   "outputs": [],
   "source": []
  },
  {
   "cell_type": "code",
   "execution_count": 16,
   "metadata": {},
   "outputs": [
    {
     "data": {
      "text/plain": [
       "['test_images/noise/44325-9-0-72.jpg',\n",
       " 'test_images/noise/111671-8-0-2.jpg',\n",
       " 'test_images/noise/161922-3-1-4.jpg',\n",
       " 'test_images/noise/46299-2-0-36.jpg',\n",
       " 'test_images/noise/49312-2-0-1.jpg']"
      ]
     },
     "execution_count": 16,
     "metadata": {},
     "output_type": "execute_result"
    }
   ],
   "source": [
    "test_noise = os.listdir(\"test_images/noise\")\n",
    "test_noise_voices_images=[]\n",
    "for image in test_noise:\n",
    "    test_noise_voices_images.append(os.path.join(\"test_images/noise\",image))\n",
    "test_noise_voices_images[:5]"
   ]
  },
  {
   "cell_type": "code",
   "execution_count": 17,
   "metadata": {},
   "outputs": [
    {
     "data": {
      "text/html": [
       "<div>\n",
       "<style scoped>\n",
       "    .dataframe tbody tr th:only-of-type {\n",
       "        vertical-align: middle;\n",
       "    }\n",
       "\n",
       "    .dataframe tbody tr th {\n",
       "        vertical-align: top;\n",
       "    }\n",
       "\n",
       "    .dataframe thead th {\n",
       "        text-align: right;\n",
       "    }\n",
       "</style>\n",
       "<table border=\"1\" class=\"dataframe\">\n",
       "  <thead>\n",
       "    <tr style=\"text-align: right;\">\n",
       "      <th></th>\n",
       "      <th>Image</th>\n",
       "      <th>Label</th>\n",
       "    </tr>\n",
       "  </thead>\n",
       "  <tbody>\n",
       "    <tr>\n",
       "      <th>0</th>\n",
       "      <td>test_images/noise/44325-9-0-72.jpg</td>\n",
       "      <td>N</td>\n",
       "    </tr>\n",
       "    <tr>\n",
       "      <th>1</th>\n",
       "      <td>test_images/noise/111671-8-0-2.jpg</td>\n",
       "      <td>N</td>\n",
       "    </tr>\n",
       "    <tr>\n",
       "      <th>2</th>\n",
       "      <td>test_images/noise/161922-3-1-4.jpg</td>\n",
       "      <td>N</td>\n",
       "    </tr>\n",
       "    <tr>\n",
       "      <th>3</th>\n",
       "      <td>test_images/noise/46299-2-0-36.jpg</td>\n",
       "      <td>N</td>\n",
       "    </tr>\n",
       "    <tr>\n",
       "      <th>4</th>\n",
       "      <td>test_images/noise/49312-2-0-1.jpg</td>\n",
       "      <td>N</td>\n",
       "    </tr>\n",
       "  </tbody>\n",
       "</table>\n",
       "</div>"
      ],
      "text/plain": [
       "                                Image Label\n",
       "0  test_images/noise/44325-9-0-72.jpg     N\n",
       "1  test_images/noise/111671-8-0-2.jpg     N\n",
       "2  test_images/noise/161922-3-1-4.jpg     N\n",
       "3  test_images/noise/46299-2-0-36.jpg     N\n",
       "4   test_images/noise/49312-2-0-1.jpg     N"
      ]
     },
     "execution_count": 17,
     "metadata": {},
     "output_type": "execute_result"
    }
   ],
   "source": [
    "test_noise_df = pd.DataFrame(test_noise_voices_images)\n",
    "test_noise_df.columns = ['Image']\n",
    "test_noise_df['Label']=\"N\"\n",
    "test_noise_df.head()"
   ]
  },
  {
   "cell_type": "code",
   "execution_count": 18,
   "metadata": {},
   "outputs": [
    {
     "data": {
      "text/html": [
       "<div>\n",
       "<style scoped>\n",
       "    .dataframe tbody tr th:only-of-type {\n",
       "        vertical-align: middle;\n",
       "    }\n",
       "\n",
       "    .dataframe tbody tr th {\n",
       "        vertical-align: top;\n",
       "    }\n",
       "\n",
       "    .dataframe thead th {\n",
       "        text-align: right;\n",
       "    }\n",
       "</style>\n",
       "<table border=\"1\" class=\"dataframe\">\n",
       "  <thead>\n",
       "    <tr style=\"text-align: right;\">\n",
       "      <th></th>\n",
       "      <th>Image</th>\n",
       "      <th>Label</th>\n",
       "    </tr>\n",
       "  </thead>\n",
       "  <tbody>\n",
       "    <tr>\n",
       "      <th>0</th>\n",
       "      <td>test_images/noise/191382-3-1-0.jpg</td>\n",
       "      <td>N</td>\n",
       "    </tr>\n",
       "    <tr>\n",
       "      <th>1</th>\n",
       "      <td>test_images/noise/65381-3-0-6.jpg</td>\n",
       "      <td>N</td>\n",
       "    </tr>\n",
       "    <tr>\n",
       "      <th>2</th>\n",
       "      <td>test_images/females/1717.jpg</td>\n",
       "      <td>F</td>\n",
       "    </tr>\n",
       "    <tr>\n",
       "      <th>3</th>\n",
       "      <td>test_images/noise/23219-5-0-6.jpg</td>\n",
       "      <td>N</td>\n",
       "    </tr>\n",
       "    <tr>\n",
       "      <th>4</th>\n",
       "      <td>test_images/noise/35548-9-2-9.jpg</td>\n",
       "      <td>N</td>\n",
       "    </tr>\n",
       "  </tbody>\n",
       "</table>\n",
       "</div>"
      ],
      "text/plain": [
       "                                Image Label\n",
       "0  test_images/noise/191382-3-1-0.jpg     N\n",
       "1   test_images/noise/65381-3-0-6.jpg     N\n",
       "2        test_images/females/1717.jpg     F\n",
       "3   test_images/noise/23219-5-0-6.jpg     N\n",
       "4   test_images/noise/35548-9-2-9.jpg     N"
      ]
     },
     "execution_count": 18,
     "metadata": {},
     "output_type": "execute_result"
    }
   ],
   "source": [
    "test_data = pd.concat([test_males_df, test_females_df, test_noise_df], axis=0)\n",
    "test_data = test_data.sample(frac=1,  random_state=42).reset_index(drop=True)\n",
    "test_data.head()"
   ]
  },
  {
   "cell_type": "markdown",
   "metadata": {},
   "source": []
  },
  {
   "cell_type": "code",
   "execution_count": 19,
   "metadata": {},
   "outputs": [],
   "source": [
    "def to_gray(img):\n",
    "    return tf.image.rgb_to_grayscale(img)\n",
    "\n",
    "\n",
    "def tf_binarize(img):\n",
    "    return tf.cast(tf.greater(img, 0.5), tf.float32)\n",
    "\n",
    "\n",
    "def pre_gen_binarize(img):\n",
    "    img = img[:, :, 0]\n",
    "    _, binary_img = cv2.threshold(img, 127, 255, cv2.THRESH_BINARY)\n",
    "    binary_img = binary_img.reshape(binary_img.shape[0], binary_img.shape[1], 1)\n",
    "    return binary_img // 255"
   ]
  },
  {
   "cell_type": "code",
   "execution_count": 19,
   "metadata": {},
   "outputs": [],
   "source": []
  },
  {
   "cell_type": "code",
   "execution_count": 20,
   "metadata": {},
   "outputs": [
    {
     "name": "stdout",
     "output_type": "stream",
     "text": [
      "(377, 387, 3)\n"
     ]
    },
    {
     "data": {
      "image/png": "[encoded data removed]",
      "text/plain": [
       "<Figure size 432x288 with 1 Axes>"
      ]
     },
     "metadata": {
      "needs_background": "light"
     },
     "output_type": "display_data"
    }
   ],
   "source": [
    "img = cv2.imread(train_data['Image'][0])\n",
    "plt.imshow(img)\n",
    "print(img.shape)"
   ]
  },
  {
   "cell_type": "code",
   "execution_count": 21,
   "metadata": {},
   "outputs": [],
   "source": [
    "num_epochs = 10\n",
    "batch_size = 1024\n",
    "validation_ratio = 0.1\n",
    "\n",
    "h = 64\n",
    "w = 64\n",
    "c = 1\n",
    "image_dim = (h,w,c)"
   ]
  },
  {
   "cell_type": "code",
   "execution_count": 22,
   "metadata": {},
   "outputs": [],
   "source": [
    "class Generators:\n",
    "    def __init__(self, train_df, test_df):\n",
    "        self.batch_size=batch_size\n",
    "        self.img_size=(h,w)\n",
    "\n",
    "        _train_datagen = ImageDataGenerator(\n",
    "            #rescale=1/255,\n",
    "            rotation_range=30,\n",
    "            zoom_range = 0.2,\n",
    "            width_shift_range=0.2,\n",
    "            height_shift_range=0.2,\n",
    "            fill_mode='nearest',\n",
    "            preprocessing_function=pre_gen_binarize\n",
    "        )\n",
    "        self.train_generator = _train_datagen.flow_from_dataframe(\n",
    "            dataframe=train_df,\n",
    "            x_col=\"Image\",\n",
    "            y_col=\"Label\",\n",
    "            class_mode='categorical',\n",
    "            batch_size=self.batch_size,\n",
    "            color_mode=\"grayscale\",\n",
    "            shuffle=True,\n",
    "            seed=1,\n",
    "            target_size=self.img_size)\n",
    "        print('Train generator created')\n",
    "\n",
    "        _test_datagen=ImageDataGenerator(#rescale=1/255,\n",
    "             preprocessing_function=pre_gen_binarize)\n",
    "        self.test_generator = _test_datagen.flow_from_dataframe(\n",
    "            dataframe=test_df,\n",
    "            x_col=\"Image\",\n",
    "            y_col='Label',\n",
    "            class_mode='categorical',\n",
    "            batch_size=self.batch_size,\n",
    "            color_mode=\"grayscale\",\n",
    "            shuffle=False,\n",
    "            seed=1,\n",
    "            target_size=self.img_size)\n",
    "        print('Test generator created')"
   ]
  },
  {
   "cell_type": "code",
   "execution_count": 23,
   "metadata": {},
   "outputs": [
    {
     "name": "stdout",
     "output_type": "stream",
     "text": [
      "Found 13871 validated image filenames belonging to 3 classes.\n",
      "Train generator created\n",
      "Found 2958 validated image filenames belonging to 3 classes.\n",
      "Test generator created\n"
     ]
    }
   ],
   "source": [
    "generators = Generators(train_data, test_data)"
   ]
  },
  {
   "cell_type": "markdown",
   "metadata": {},
   "source": []
  },
  {
   "cell_type": "code",
   "execution_count": 24,
   "metadata": {},
   "outputs": [
    {
     "data": {
      "text/html": [
       "<div>\n",
       "<style scoped>\n",
       "    .dataframe tbody tr th:only-of-type {\n",
       "        vertical-align: middle;\n",
       "    }\n",
       "\n",
       "    .dataframe tbody tr th {\n",
       "        vertical-align: top;\n",
       "    }\n",
       "\n",
       "    .dataframe thead th {\n",
       "        text-align: right;\n",
       "    }\n",
       "</style>\n",
       "<table border=\"1\" class=\"dataframe\">\n",
       "  <thead>\n",
       "    <tr style=\"text-align: right;\">\n",
       "      <th></th>\n",
       "      <th>Image</th>\n",
       "      <th>Label</th>\n",
       "    </tr>\n",
       "  </thead>\n",
       "  <tbody>\n",
       "    <tr>\n",
       "      <th>0</th>\n",
       "      <td>train_images/males/sample-001606.jpg</td>\n",
       "      <td>M</td>\n",
       "    </tr>\n",
       "    <tr>\n",
       "      <th>1</th>\n",
       "      <td>train_images/males/sample-001431.jpg</td>\n",
       "      <td>M</td>\n",
       "    </tr>\n",
       "    <tr>\n",
       "      <th>2</th>\n",
       "      <td>train_images/noise/46918-5-0-0.jpg</td>\n",
       "      <td>N</td>\n",
       "    </tr>\n",
       "    <tr>\n",
       "      <th>3</th>\n",
       "      <td>train_images/males/2432.jpg</td>\n",
       "      <td>M</td>\n",
       "    </tr>\n",
       "    <tr>\n",
       "      <th>4</th>\n",
       "      <td>train_images/males/sample-000408.jpg</td>\n",
       "      <td>M</td>\n",
       "    </tr>\n",
       "  </tbody>\n",
       "</table>\n",
       "</div>"
      ],
      "text/plain": [
       "                                  Image Label\n",
       "0  train_images/males/sample-001606.jpg     M\n",
       "1  train_images/males/sample-001431.jpg     M\n",
       "2    train_images/noise/46918-5-0-0.jpg     N\n",
       "3           train_images/males/2432.jpg     M\n",
       "4  train_images/males/sample-000408.jpg     M"
      ]
     },
     "execution_count": 24,
     "metadata": {},
     "output_type": "execute_result"
    }
   ],
   "source": [
    "train_data.head()"
   ]
  },
  {
   "cell_type": "code",
   "execution_count": 28,
   "metadata": {},
   "outputs": [
    {
     "data": {
      "text/plain": [
       "{'F': 0, 'M': 1, 'N': 2}"
      ]
     },
     "execution_count": 28,
     "metadata": {},
     "output_type": "execute_result"
    }
   ],
   "source": [
    "generators.train_generator.class_indices"
   ]
  },
  {
   "cell_type": "code",
   "execution_count": 25,
   "metadata": {},
   "outputs": [
    {
     "data": {
      "text/plain": [
       "Image    train_images/males/sample-001606.jpg\n",
       "Label                                       M\n",
       "Name: 0, dtype: object"
      ]
     },
     "execution_count": 25,
     "metadata": {},
     "output_type": "execute_result"
    }
   ],
   "source": [
    "train_data.iloc[0,:]"
   ]
  },
  {
   "cell_type": "code",
   "execution_count": 39,
   "metadata": {},
   "outputs": [
    {
     "name": "stdout",
     "output_type": "stream",
     "text": [
      "[0. 0. 1.]\n"
     ]
    },
    {
     "data": {
      "image/png": "[encoded data removed]",
      "text/plain": [
       "<Figure size 432x288 with 1 Axes>"
      ]
     },
     "metadata": {
      "needs_background": "light"
     },
     "output_type": "display_data"
    }
   ],
   "source": [
    "plt.imshow(generators.train_generator.next()[0][0])\n",
    "print(generators.train_generator.next()[1][0])"
   ]
  },
  {
   "cell_type": "markdown",
   "metadata": {},
   "source": [
    "<h1>CNN model</h1>"
   ]
  },
  {
   "cell_type": "code",
   "execution_count": 6,
   "metadata": {},
   "outputs": [],
   "source": [
    "# Building our model \n",
    "model = Sequential()\n",
    "\n",
    "model.add(Conv2D(filters=32, kernel_size=(3, 3), activation='relu', input_shape=(64,64,1)))\n",
    "model.add(MaxPooling2D(pool_size=(2, 2)))\n",
    "\n",
    "model.add(Conv2D(filters=64, kernel_size=(3, 3), activation='relu'))\n",
    "model.add(MaxPooling2D(pool_size=(2, 2)))\n",
    "model.add(Dropout(0.5))\n",
    "\n",
    "model.add(Conv2D(filters=128, kernel_size=(3, 3), activation='relu'))\n",
    "model.add(MaxPooling2D(pool_size=(2, 2)))\n",
    "model.add(Dropout(0.5))\n",
    "\n",
    "model.add(Conv2D(filters=128, kernel_size=(3, 3), activation='relu'))\n",
    "model.add(MaxPooling2D(pool_size=(2, 2)))\n",
    "model.add(Dropout(0.5))\n",
    "\n",
    "model.add(Flatten())\n",
    "model.add(Dense(512, activation='relu'))\n",
    "model.add(Dropout(0.5))\n",
    "\n",
    "model.add(Dense(128, activation='relu'))\n",
    "model.add(Dropout(0.5))\n",
    "\n",
    "model.add(Dense(3, activation='softmax'))"
   ]
  },
  {
   "cell_type": "code",
   "execution_count": 7,
   "outputs": [
    {
     "data": {
      "text/plain": "<PIL.Image.Image image mode=RGBA size=659x367>",
      "image/png": "[encoded data removed]"
     },
     "execution_count": 7,
     "metadata": {},
     "output_type": "execute_result"
    }
   ],
   "source": [
    "visualkeras.layered_view(model, legend=True)"
   ],
   "metadata": {
    "collapsed": false
   }
  },
  {
   "cell_type": "code",
   "execution_count": 43,
   "metadata": {},
   "outputs": [],
   "source": [
    "# Compiling using adam and categorical crossentropy\n",
    "model.compile(loss='categorical_crossentropy',\n",
    "                  optimizer='adam',\n",
    "                  metrics=['accuracy'])"
   ]
  },
  {
   "cell_type": "code",
   "execution_count": 44,
   "metadata": {},
   "outputs": [
    {
     "name": "stdout",
     "output_type": "stream",
     "text": [
      "Model: \"sequential\"\n",
      "_________________________________________________________________\n",
      " Layer (type)                Output Shape              Param #   \n",
      "=================================================================\n",
      " conv2d (Conv2D)             (None, 62, 62, 32)        320       \n",
      "                                                                 \n",
      " max_pooling2d (MaxPooling2D  (None, 31, 31, 32)       0         \n",
      " )                                                               \n",
      "                                                                 \n",
      " conv2d_1 (Conv2D)           (None, 29, 29, 64)        18496     \n",
      "                                                                 \n",
      " max_pooling2d_1 (MaxPooling  (None, 14, 14, 64)       0         \n",
      " 2D)                                                             \n",
      "                                                                 \n",
      " dropout (Dropout)           (None, 14, 14, 64)        0         \n",
      "                                                                 \n",
      " conv2d_2 (Conv2D)           (None, 12, 12, 128)       73856     \n",
      "                                                                 \n",
      " max_pooling2d_2 (MaxPooling  (None, 6, 6, 128)        0         \n",
      " 2D)                                                             \n",
      "                                                                 \n",
      " dropout_1 (Dropout)         (None, 6, 6, 128)         0         \n",
      "                                                                 \n",
      " conv2d_3 (Conv2D)           (None, 4, 4, 128)         147584    \n",
      "                                                                 \n",
      " max_pooling2d_3 (MaxPooling  (None, 2, 2, 128)        0         \n",
      " 2D)                                                             \n",
      "                                                                 \n",
      " dropout_2 (Dropout)         (None, 2, 2, 128)         0         \n",
      "                                                                 \n",
      " flatten (Flatten)           (None, 512)               0         \n",
      "                                                                 \n",
      " dense (Dense)               (None, 512)               262656    \n",
      "                                                                 \n",
      " dropout_3 (Dropout)         (None, 512)               0         \n",
      "                                                                 \n",
      " dense_1 (Dense)             (None, 128)               65664     \n",
      "                                                                 \n",
      " dropout_4 (Dropout)         (None, 128)               0         \n",
      "                                                                 \n",
      " dense_2 (Dense)             (None, 3)                 387       \n",
      "                                                                 \n",
      "=================================================================\n",
      "Total params: 568,963\n",
      "Trainable params: 568,963\n",
      "Non-trainable params: 0\n",
      "_________________________________________________________________\n"
     ]
    }
   ],
   "source": [
    "model.summary()"
   ]
  },
  {
   "cell_type": "code",
   "execution_count": 45,
   "metadata": {},
   "outputs": [
    {
     "name": "stdout",
     "output_type": "stream",
     "text": [
      "Epoch 1/15\n"
     ]
    },
    {
     "name": "stderr",
     "output_type": "stream",
     "text": [
      "2022-11-11 12:52:00.582991: W tensorflow/core/framework/cpu_allocator_impl.cc:82] Allocation of 503840768 exceeds 10% of free system memory.\n",
      "2022-11-11 12:52:02.795287: W tensorflow/core/framework/cpu_allocator_impl.cc:82] Allocation of 125960192 exceeds 10% of free system memory.\n",
      "2022-11-11 12:52:02.942055: W tensorflow/core/framework/cpu_allocator_impl.cc:82] Allocation of 220463104 exceeds 10% of free system memory.\n",
      "2022-11-11 12:52:03.071802: W tensorflow/core/framework/cpu_allocator_impl.cc:82] Allocation of 51380224 exceeds 10% of free system memory.\n",
      "2022-11-11 12:52:03.089698: W tensorflow/core/framework/cpu_allocator_impl.cc:82] Allocation of 51380224 exceeds 10% of free system memory.\n"
     ]
    },
    {
     "name": "stdout",
     "output_type": "stream",
     "text": [
      "14/14 [==============================] - 296s 21s/step - loss: 1.0606 - accuracy: 0.4429 - val_loss: 1.0783 - val_accuracy: 0.4070\n",
      "Epoch 2/15\n",
      "14/14 [==============================] - 135s 10s/step - loss: 0.8631 - accuracy: 0.5743 - val_loss: 0.7493 - val_accuracy: 0.6934\n",
      "Epoch 3/15\n",
      "14/14 [==============================] - 147s 11s/step - loss: 0.7663 - accuracy: 0.6237 - val_loss: 0.6609 - val_accuracy: 0.7049\n",
      "Epoch 4/15\n",
      "14/14 [==============================] - 44s 3s/step - loss: 0.7310 - accuracy: 0.6400 - val_loss: 0.5941 - val_accuracy: 0.7387\n",
      "Epoch 5/15\n",
      "14/14 [==============================] - 37s 3s/step - loss: 0.7227 - accuracy: 0.6410 - val_loss: 0.6667 - val_accuracy: 0.6957\n",
      "Epoch 6/15\n",
      "14/14 [==============================] - 37s 3s/step - loss: 0.7025 - accuracy: 0.6501 - val_loss: 0.6736 - val_accuracy: 0.6981\n",
      "Epoch 7/15\n",
      "14/14 [==============================] - 37s 3s/step - loss: 0.6899 - accuracy: 0.6563 - val_loss: 0.6245 - val_accuracy: 0.7312\n",
      "Epoch 8/15\n",
      "14/14 [==============================] - 36s 3s/step - loss: 0.6619 - accuracy: 0.6799 - val_loss: 0.6515 - val_accuracy: 0.6937\n",
      "Epoch 9/15\n",
      "14/14 [==============================] - 37s 3s/step - loss: 0.6341 - accuracy: 0.7113 - val_loss: 0.6852 - val_accuracy: 0.6589\n",
      "Epoch 10/15\n",
      "14/14 [==============================] - 37s 3s/step - loss: 0.5999 - accuracy: 0.7356 - val_loss: 0.6474 - val_accuracy: 0.7106\n",
      "Epoch 11/15\n",
      "14/14 [==============================] - 37s 3s/step - loss: 0.5737 - accuracy: 0.7572 - val_loss: 0.5796 - val_accuracy: 0.7448\n",
      "Epoch 12/15\n",
      "14/14 [==============================] - 45s 3s/step - loss: 0.5678 - accuracy: 0.7578 - val_loss: 0.8829 - val_accuracy: 0.6197\n",
      "Epoch 13/15\n",
      "14/14 [==============================] - 42s 3s/step - loss: 0.5631 - accuracy: 0.7754 - val_loss: 0.7218 - val_accuracy: 0.6670\n",
      "Epoch 14/15\n",
      "14/14 [==============================] - 37s 3s/step - loss: 0.5335 - accuracy: 0.7795 - val_loss: 0.7646 - val_accuracy: 0.6792\n",
      "Epoch 15/15\n",
      "14/14 [==============================] - 39s 3s/step - loss: 0.5203 - accuracy: 0.7860 - val_loss: 0.6195 - val_accuracy: 0.7373\n"
     ]
    }
   ],
   "source": [
    "# Fitting our CNN with 250 epochs and setting the results to history for visuals\n",
    "history = model.fit(generators.train_generator,\n",
    "                    validation_data=generators.test_generator,\n",
    "                    epochs=15)"
   ]
  },
  {
   "cell_type": "code",
   "execution_count": 50,
   "metadata": {},
   "outputs": [
    {
     "name": "stdout",
     "output_type": "stream",
     "text": [
      "Epoch 1/50\n",
      "14/14 [==============================] - 43s 3s/step - loss: 0.4168 - accuracy: 0.8337 - val_loss: 0.3756 - val_accuracy: 0.8563\n",
      "Epoch 2/50\n",
      "14/14 [==============================] - 38s 3s/step - loss: 0.4082 - accuracy: 0.8400 - val_loss: 0.3678 - val_accuracy: 0.8624\n",
      "Epoch 3/50\n",
      "14/14 [==============================] - 36s 3s/step - loss: 0.4087 - accuracy: 0.8364 - val_loss: 0.4820 - val_accuracy: 0.8144\n",
      "Epoch 4/50\n",
      "14/14 [==============================] - 36s 3s/step - loss: 0.4143 - accuracy: 0.8333 - val_loss: 0.4483 - val_accuracy: 0.8354\n",
      "Epoch 5/50\n",
      "14/14 [==============================] - 37s 3s/step - loss: 0.4110 - accuracy: 0.8364 - val_loss: 0.3691 - val_accuracy: 0.8597\n",
      "Epoch 6/50\n",
      "14/14 [==============================] - 36s 3s/step - loss: 0.4123 - accuracy: 0.8349 - val_loss: 0.3286 - val_accuracy: 0.8749\n",
      "Epoch 7/50\n",
      "14/14 [==============================] - 36s 3s/step - loss: 0.4069 - accuracy: 0.8390 - val_loss: 0.5382 - val_accuracy: 0.8039\n",
      "Epoch 8/50\n",
      "14/14 [==============================] - 36s 3s/step - loss: 0.3978 - accuracy: 0.8425 - val_loss: 0.4113 - val_accuracy: 0.8438\n",
      "Epoch 9/50\n",
      "14/14 [==============================] - 36s 3s/step - loss: 0.4027 - accuracy: 0.8396 - val_loss: 0.3102 - val_accuracy: 0.8810\n",
      "Epoch 10/50\n",
      "14/14 [==============================] - 37s 3s/step - loss: 0.4028 - accuracy: 0.8423 - val_loss: 0.3793 - val_accuracy: 0.8546\n",
      "Epoch 11/50\n",
      "14/14 [==============================] - 37s 3s/step - loss: 0.4008 - accuracy: 0.8402 - val_loss: 0.3919 - val_accuracy: 0.8513\n",
      "Epoch 12/50\n",
      "14/14 [==============================] - 36s 3s/step - loss: 0.4014 - accuracy: 0.8404 - val_loss: 0.3387 - val_accuracy: 0.8692\n",
      "Epoch 13/50\n",
      "14/14 [==============================] - 36s 3s/step - loss: 0.3957 - accuracy: 0.8423 - val_loss: 0.4084 - val_accuracy: 0.8425\n",
      "Epoch 14/50\n",
      "14/14 [==============================] - 36s 3s/step - loss: 0.4008 - accuracy: 0.8402 - val_loss: 0.5211 - val_accuracy: 0.8198\n",
      "Epoch 15/50\n",
      "14/14 [==============================] - 37s 3s/step - loss: 0.3995 - accuracy: 0.8400 - val_loss: 0.5552 - val_accuracy: 0.8063\n",
      "Epoch 16/50\n",
      "14/14 [==============================] - 38s 3s/step - loss: 0.4034 - accuracy: 0.8396 - val_loss: 0.4631 - val_accuracy: 0.8181\n",
      "Epoch 17/50\n",
      "14/14 [==============================] - 37s 3s/step - loss: 0.4060 - accuracy: 0.8420 - val_loss: 0.3461 - val_accuracy: 0.8702\n",
      "Epoch 18/50\n",
      "14/14 [==============================] - 37s 3s/step - loss: 0.4184 - accuracy: 0.8330 - val_loss: 0.4004 - val_accuracy: 0.8482\n",
      "Epoch 19/50\n",
      "14/14 [==============================] - 36s 3s/step - loss: 0.4028 - accuracy: 0.8397 - val_loss: 0.3133 - val_accuracy: 0.8827\n",
      "Epoch 20/50\n",
      "14/14 [==============================] - 36s 3s/step - loss: 0.4059 - accuracy: 0.8382 - val_loss: 0.3917 - val_accuracy: 0.8475\n",
      "Epoch 21/50\n",
      "14/14 [==============================] - 36s 3s/step - loss: 0.3965 - accuracy: 0.8428 - val_loss: 0.3463 - val_accuracy: 0.8665\n",
      "Epoch 22/50\n",
      "14/14 [==============================] - 36s 3s/step - loss: 0.3932 - accuracy: 0.8413 - val_loss: 0.3620 - val_accuracy: 0.8621\n",
      "Epoch 23/50\n",
      "14/14 [==============================] - 37s 3s/step - loss: 0.3966 - accuracy: 0.8411 - val_loss: 0.3370 - val_accuracy: 0.8671\n",
      "Epoch 24/50\n",
      "14/14 [==============================] - 36s 3s/step - loss: 0.4007 - accuracy: 0.8418 - val_loss: 0.3499 - val_accuracy: 0.8631\n",
      "Epoch 25/50\n",
      "14/14 [==============================] - 37s 3s/step - loss: 0.3954 - accuracy: 0.8404 - val_loss: 0.3513 - val_accuracy: 0.8651\n",
      "Epoch 26/50\n",
      "14/14 [==============================] - 37s 3s/step - loss: 0.4000 - accuracy: 0.8407 - val_loss: 0.4199 - val_accuracy: 0.8394\n",
      "Epoch 27/50\n",
      "14/14 [==============================] - 36s 3s/step - loss: 0.3932 - accuracy: 0.8430 - val_loss: 0.3140 - val_accuracy: 0.8793\n",
      "Epoch 28/50\n",
      "14/14 [==============================] - 38s 3s/step - loss: 0.3935 - accuracy: 0.8417 - val_loss: 0.3489 - val_accuracy: 0.8678\n",
      "Epoch 29/50\n",
      "14/14 [==============================] - 37s 3s/step - loss: 0.3905 - accuracy: 0.8436 - val_loss: 0.3333 - val_accuracy: 0.8800\n",
      "Epoch 30/50\n",
      "14/14 [==============================] - 36s 3s/step - loss: 0.3927 - accuracy: 0.8394 - val_loss: 0.3413 - val_accuracy: 0.8739\n",
      "Epoch 31/50\n",
      "14/14 [==============================] - 36s 3s/step - loss: 0.4008 - accuracy: 0.8389 - val_loss: 0.2898 - val_accuracy: 0.8888\n",
      "Epoch 32/50\n",
      "14/14 [==============================] - 36s 3s/step - loss: 0.3863 - accuracy: 0.8447 - val_loss: 0.3921 - val_accuracy: 0.8519\n",
      "Epoch 33/50\n",
      "14/14 [==============================] - 36s 3s/step - loss: 0.3872 - accuracy: 0.8433 - val_loss: 0.3462 - val_accuracy: 0.8712\n",
      "Epoch 34/50\n",
      "14/14 [==============================] - 37s 3s/step - loss: 0.3881 - accuracy: 0.8450 - val_loss: 0.3726 - val_accuracy: 0.8621\n",
      "Epoch 35/50\n",
      "14/14 [==============================] - 37s 3s/step - loss: 0.3872 - accuracy: 0.8446 - val_loss: 0.3689 - val_accuracy: 0.8634\n",
      "Epoch 36/50\n",
      "14/14 [==============================] - 36s 3s/step - loss: 0.3876 - accuracy: 0.8426 - val_loss: 0.3733 - val_accuracy: 0.8719\n",
      "Epoch 37/50\n",
      "14/14 [==============================] - 36s 3s/step - loss: 0.3921 - accuracy: 0.8452 - val_loss: 0.4564 - val_accuracy: 0.8313\n",
      "Epoch 38/50\n",
      "14/14 [==============================] - 36s 3s/step - loss: 0.3846 - accuracy: 0.8452 - val_loss: 0.4344 - val_accuracy: 0.8394\n",
      "Epoch 39/50\n",
      "14/14 [==============================] - 37s 3s/step - loss: 0.3900 - accuracy: 0.8444 - val_loss: 0.3334 - val_accuracy: 0.8722\n",
      "Epoch 40/50\n",
      "14/14 [==============================] - 36s 3s/step - loss: 0.3806 - accuracy: 0.8493 - val_loss: 0.3966 - val_accuracy: 0.8482\n",
      "Epoch 41/50\n",
      "14/14 [==============================] - 37s 3s/step - loss: 0.3934 - accuracy: 0.8417 - val_loss: 0.3670 - val_accuracy: 0.8671\n",
      "Epoch 42/50\n",
      "14/14 [==============================] - 36s 3s/step - loss: 0.3906 - accuracy: 0.8450 - val_loss: 0.3970 - val_accuracy: 0.8533\n",
      "Epoch 43/50\n",
      "14/14 [==============================] - 37s 3s/step - loss: 0.3879 - accuracy: 0.8472 - val_loss: 0.4702 - val_accuracy: 0.8272\n",
      "Epoch 44/50\n",
      "14/14 [==============================] - 36s 3s/step - loss: 0.3872 - accuracy: 0.8412 - val_loss: 0.3210 - val_accuracy: 0.8786\n",
      "Epoch 45/50\n",
      "14/14 [==============================] - 37s 3s/step - loss: 0.3838 - accuracy: 0.8451 - val_loss: 0.3824 - val_accuracy: 0.8624\n",
      "Epoch 46/50\n",
      "14/14 [==============================] - 36s 3s/step - loss: 0.3808 - accuracy: 0.8464 - val_loss: 0.4188 - val_accuracy: 0.8438\n",
      "Epoch 47/50\n",
      "14/14 [==============================] - 37s 3s/step - loss: 0.3842 - accuracy: 0.8457 - val_loss: 0.3849 - val_accuracy: 0.8540\n",
      "Epoch 48/50\n",
      "14/14 [==============================] - 37s 3s/step - loss: 0.3848 - accuracy: 0.8431 - val_loss: 0.3565 - val_accuracy: 0.8614\n",
      "Epoch 49/50\n",
      "14/14 [==============================] - 37s 3s/step - loss: 0.3844 - accuracy: 0.8456 - val_loss: 0.3221 - val_accuracy: 0.8783\n",
      "Epoch 50/50\n",
      "14/14 [==============================] - 36s 3s/step - loss: 0.3828 - accuracy: 0.8475 - val_loss: 0.3450 - val_accuracy: 0.8692\n"
     ]
    }
   ],
   "source": [
    "# Fitting our CNN with 250 epochs and setting the results to history for visuals\n",
    "history = model.fit(generators.train_generator,\n",
    "                    validation_data=generators.test_generator,\n",
    "                    epochs=50)"
   ]
  },
  {
   "cell_type": "code",
   "execution_count": 68,
   "metadata": {},
   "outputs": [],
   "source": [
    "model.save(\"gender_classifier_v2.h5\")"
   ]
  },
  {
   "cell_type": "code",
   "execution_count": 63,
   "metadata": {},
   "outputs": [],
   "source": [
    "model = tf.keras.models.load_model(\"gender_classifier_v2.h5\")"
   ]
  },
  {
   "cell_type": "code",
   "execution_count": 60,
   "metadata": {},
   "outputs": [
    {
     "name": "stdout",
     "output_type": "stream",
     "text": [
      "Epoch 1/100\n",
      "14/14 [==============================] - 38s 3s/step - loss: 0.3437 - accuracy: 0.8608 - val_loss: 0.3481 - val_accuracy: 0.8810\n",
      "Epoch 2/100\n",
      "14/14 [==============================] - 37s 3s/step - loss: 0.3383 - accuracy: 0.8637 - val_loss: 0.3081 - val_accuracy: 0.8878\n",
      "Epoch 3/100\n",
      "14/14 [==============================] - 37s 3s/step - loss: 0.3410 - accuracy: 0.8611 - val_loss: 0.2548 - val_accuracy: 0.9124\n",
      "Epoch 4/100\n",
      "14/14 [==============================] - 37s 3s/step - loss: 0.3487 - accuracy: 0.8608 - val_loss: 0.2391 - val_accuracy: 0.9155\n",
      "Epoch 5/100\n",
      "14/14 [==============================] - 37s 3s/step - loss: 0.3382 - accuracy: 0.8627 - val_loss: 0.3089 - val_accuracy: 0.8901\n",
      "Epoch 6/100\n",
      "14/14 [==============================] - 38s 3s/step - loss: 0.3418 - accuracy: 0.8645 - val_loss: 0.2895 - val_accuracy: 0.8932\n",
      "Epoch 7/100\n",
      "14/14 [==============================] - 38s 3s/step - loss: 0.3370 - accuracy: 0.8627 - val_loss: 0.3329 - val_accuracy: 0.8817\n",
      "Epoch 8/100\n",
      "14/14 [==============================] - 37s 3s/step - loss: 0.3307 - accuracy: 0.8667 - val_loss: 0.3018 - val_accuracy: 0.8901\n",
      "Epoch 9/100\n",
      "14/14 [==============================] - 37s 3s/step - loss: 0.3412 - accuracy: 0.8639 - val_loss: 0.2911 - val_accuracy: 0.8976\n",
      "Epoch 10/100\n",
      "14/14 [==============================] - 37s 3s/step - loss: 0.3443 - accuracy: 0.8629 - val_loss: 0.2702 - val_accuracy: 0.9037\n",
      "Epoch 11/100\n",
      "14/14 [==============================] - 37s 3s/step - loss: 0.3323 - accuracy: 0.8652 - val_loss: 0.2793 - val_accuracy: 0.8962\n",
      "Epoch 12/100\n",
      "14/14 [==============================] - 37s 3s/step - loss: 0.3459 - accuracy: 0.8610 - val_loss: 0.2942 - val_accuracy: 0.8945\n",
      "Epoch 13/100\n",
      "14/14 [==============================] - 38s 3s/step - loss: 0.3398 - accuracy: 0.8629 - val_loss: 0.2636 - val_accuracy: 0.9080\n",
      "Epoch 14/100\n",
      "14/14 [==============================] - 37s 3s/step - loss: 0.3385 - accuracy: 0.8642 - val_loss: 0.2559 - val_accuracy: 0.9097\n",
      "Epoch 15/100\n",
      "14/14 [==============================] - 37s 3s/step - loss: 0.3403 - accuracy: 0.8637 - val_loss: 0.2672 - val_accuracy: 0.9006\n",
      "Epoch 16/100\n",
      "14/14 [==============================] - 36s 3s/step - loss: 0.3433 - accuracy: 0.8634 - val_loss: 0.3147 - val_accuracy: 0.8898\n",
      "Epoch 17/100\n",
      "14/14 [==============================] - 37s 3s/step - loss: 0.3396 - accuracy: 0.8620 - val_loss: 0.2791 - val_accuracy: 0.8972\n",
      "Epoch 18/100\n",
      "14/14 [==============================] - 37s 3s/step - loss: 0.3415 - accuracy: 0.8627 - val_loss: 0.2654 - val_accuracy: 0.9023\n",
      "Epoch 19/100\n",
      "14/14 [==============================] - 36s 3s/step - loss: 0.3431 - accuracy: 0.8657 - val_loss: 0.2654 - val_accuracy: 0.9009\n",
      "Epoch 20/100\n",
      "14/14 [==============================] - 37s 3s/step - loss: 0.3373 - accuracy: 0.8629 - val_loss: 0.3071 - val_accuracy: 0.8895\n",
      "Epoch 21/100\n",
      "14/14 [==============================] - 37s 3s/step - loss: 0.3390 - accuracy: 0.8639 - val_loss: 0.2935 - val_accuracy: 0.8955\n",
      "Epoch 22/100\n",
      "14/14 [==============================] - 37s 3s/step - loss: 0.3408 - accuracy: 0.8629 - val_loss: 0.2373 - val_accuracy: 0.9175\n",
      "Epoch 23/100\n",
      "14/14 [==============================] - 37s 3s/step - loss: 0.3436 - accuracy: 0.8648 - val_loss: 0.3465 - val_accuracy: 0.8780\n",
      "Epoch 24/100\n",
      "14/14 [==============================] - 37s 3s/step - loss: 0.3439 - accuracy: 0.8634 - val_loss: 0.2702 - val_accuracy: 0.9013\n",
      "Epoch 25/100\n",
      "14/14 [==============================] - 37s 3s/step - loss: 0.3386 - accuracy: 0.8633 - val_loss: 0.2862 - val_accuracy: 0.8982\n",
      "Epoch 26/100\n",
      "14/14 [==============================] - 37s 3s/step - loss: 0.3417 - accuracy: 0.8630 - val_loss: 0.2937 - val_accuracy: 0.8898\n",
      "Epoch 27/100\n",
      "14/14 [==============================] - 37s 3s/step - loss: 0.3390 - accuracy: 0.8613 - val_loss: 0.3507 - val_accuracy: 0.8722\n",
      "Epoch 28/100\n",
      "14/14 [==============================] - 37s 3s/step - loss: 0.3334 - accuracy: 0.8657 - val_loss: 0.2776 - val_accuracy: 0.8966\n",
      "Epoch 29/100\n",
      "14/14 [==============================] - 37s 3s/step - loss: 0.3357 - accuracy: 0.8642 - val_loss: 0.2696 - val_accuracy: 0.9033\n",
      "Epoch 30/100\n",
      "14/14 [==============================] - 37s 3s/step - loss: 0.3444 - accuracy: 0.8605 - val_loss: 0.2448 - val_accuracy: 0.9131\n",
      "Epoch 31/100\n",
      "14/14 [==============================] - 37s 3s/step - loss: 0.3395 - accuracy: 0.8667 - val_loss: 0.2551 - val_accuracy: 0.9104\n",
      "Epoch 32/100\n",
      "14/14 [==============================] - 37s 3s/step - loss: 0.3383 - accuracy: 0.8656 - val_loss: 0.2624 - val_accuracy: 0.9101\n",
      "Epoch 33/100\n",
      "14/14 [==============================] - 37s 3s/step - loss: 0.3389 - accuracy: 0.8619 - val_loss: 0.2575 - val_accuracy: 0.9101\n",
      "Epoch 34/100\n",
      "14/14 [==============================] - 38s 3s/step - loss: 0.3348 - accuracy: 0.8668 - val_loss: 0.2535 - val_accuracy: 0.9108\n",
      "Epoch 35/100\n",
      "14/14 [==============================] - 37s 3s/step - loss: 0.3413 - accuracy: 0.8628 - val_loss: 0.3395 - val_accuracy: 0.8861\n",
      "Epoch 36/100\n",
      "14/14 [==============================] - 37s 3s/step - loss: 0.3447 - accuracy: 0.8639 - val_loss: 0.2841 - val_accuracy: 0.8999\n",
      "Epoch 37/100\n",
      "14/14 [==============================] - 37s 3s/step - loss: 0.3405 - accuracy: 0.8654 - val_loss: 0.2977 - val_accuracy: 0.8908\n",
      "Epoch 38/100\n",
      "14/14 [==============================] - 37s 3s/step - loss: 0.3284 - accuracy: 0.8697 - val_loss: 0.2688 - val_accuracy: 0.9091\n",
      "Epoch 39/100\n",
      "14/14 [==============================] - 38s 3s/step - loss: 0.3446 - accuracy: 0.8637 - val_loss: 0.2893 - val_accuracy: 0.8949\n",
      "Epoch 40/100\n",
      "14/14 [==============================] - 37s 3s/step - loss: 0.3363 - accuracy: 0.8630 - val_loss: 0.2966 - val_accuracy: 0.8874\n",
      "Epoch 41/100\n",
      "14/14 [==============================] - 37s 3s/step - loss: 0.3327 - accuracy: 0.8670 - val_loss: 0.3155 - val_accuracy: 0.8830\n",
      "Epoch 42/100\n",
      "14/14 [==============================] - 37s 3s/step - loss: 0.3445 - accuracy: 0.8609 - val_loss: 0.2627 - val_accuracy: 0.9016\n",
      "Epoch 43/100\n",
      "14/14 [==============================] - 37s 3s/step - loss: 0.3423 - accuracy: 0.8620 - val_loss: 0.3152 - val_accuracy: 0.8878\n",
      "Epoch 44/100\n",
      "14/14 [==============================] - 38s 3s/step - loss: 0.3356 - accuracy: 0.8645 - val_loss: 0.3081 - val_accuracy: 0.8884\n",
      "Epoch 45/100\n",
      "14/14 [==============================] - 37s 3s/step - loss: 0.3344 - accuracy: 0.8652 - val_loss: 0.3119 - val_accuracy: 0.8844\n",
      "Epoch 46/100\n",
      "14/14 [==============================] - 38s 3s/step - loss: 0.3330 - accuracy: 0.8686 - val_loss: 0.3083 - val_accuracy: 0.8915\n",
      "Epoch 47/100\n",
      "14/14 [==============================] - 37s 3s/step - loss: 0.3332 - accuracy: 0.8679 - val_loss: 0.3129 - val_accuracy: 0.8911\n",
      "Epoch 48/100\n",
      "14/14 [==============================] - 37s 3s/step - loss: 0.3363 - accuracy: 0.8657 - val_loss: 0.2556 - val_accuracy: 0.9111\n",
      "Epoch 49/100\n",
      "14/14 [==============================] - 38s 3s/step - loss: 0.3307 - accuracy: 0.8655 - val_loss: 0.3106 - val_accuracy: 0.8888\n",
      "Epoch 50/100\n",
      "14/14 [==============================] - 37s 3s/step - loss: 0.3366 - accuracy: 0.8679 - val_loss: 0.3121 - val_accuracy: 0.8871\n",
      "Epoch 51/100\n",
      "14/14 [==============================] - 37s 3s/step - loss: 0.3349 - accuracy: 0.8669 - val_loss: 0.3374 - val_accuracy: 0.8813\n",
      "Epoch 52/100\n",
      "14/14 [==============================] - 37s 3s/step - loss: 0.3339 - accuracy: 0.8659 - val_loss: 0.2786 - val_accuracy: 0.8938\n",
      "Epoch 53/100\n",
      "14/14 [==============================] - 38s 3s/step - loss: 0.3422 - accuracy: 0.8627 - val_loss: 0.2629 - val_accuracy: 0.9057\n",
      "Epoch 54/100\n",
      "14/14 [==============================] - 37s 3s/step - loss: 0.3475 - accuracy: 0.8639 - val_loss: 0.2737 - val_accuracy: 0.9057\n",
      "Epoch 55/100\n",
      "14/14 [==============================] - 37s 3s/step - loss: 0.3346 - accuracy: 0.8675 - val_loss: 0.2715 - val_accuracy: 0.9006\n",
      "Epoch 56/100\n",
      "14/14 [==============================] - 37s 3s/step - loss: 0.3326 - accuracy: 0.8678 - val_loss: 0.2898 - val_accuracy: 0.8935\n",
      "Epoch 57/100\n",
      "14/14 [==============================] - 37s 3s/step - loss: 0.3384 - accuracy: 0.8647 - val_loss: 0.2958 - val_accuracy: 0.8952\n",
      "Epoch 58/100\n",
      "14/14 [==============================] - 37s 3s/step - loss: 0.3369 - accuracy: 0.8650 - val_loss: 0.2586 - val_accuracy: 0.9060\n",
      "Epoch 59/100\n",
      "14/14 [==============================] - 37s 3s/step - loss: 0.3393 - accuracy: 0.8650 - val_loss: 0.2800 - val_accuracy: 0.8969\n",
      "Epoch 60/100\n",
      "14/14 [==============================] - 37s 3s/step - loss: 0.3376 - accuracy: 0.8632 - val_loss: 0.2520 - val_accuracy: 0.9050\n",
      "Epoch 61/100\n",
      "14/14 [==============================] - 37s 3s/step - loss: 0.3395 - accuracy: 0.8624 - val_loss: 0.2560 - val_accuracy: 0.9067\n",
      "Epoch 62/100\n",
      "14/14 [==============================] - 37s 3s/step - loss: 0.3384 - accuracy: 0.8635 - val_loss: 0.2440 - val_accuracy: 0.9124\n",
      "Epoch 63/100\n",
      "14/14 [==============================] - 37s 3s/step - loss: 0.3364 - accuracy: 0.8619 - val_loss: 0.3027 - val_accuracy: 0.8928\n",
      "Epoch 64/100\n",
      "14/14 [==============================] - 37s 3s/step - loss: 0.3406 - accuracy: 0.8635 - val_loss: 0.3021 - val_accuracy: 0.8949\n",
      "Epoch 65/100\n",
      "14/14 [==============================] - 37s 3s/step - loss: 0.3415 - accuracy: 0.8618 - val_loss: 0.3185 - val_accuracy: 0.8854\n",
      "Epoch 66/100\n",
      "14/14 [==============================] - 37s 3s/step - loss: 0.3392 - accuracy: 0.8634 - val_loss: 0.2722 - val_accuracy: 0.8993\n",
      "Epoch 67/100\n",
      "14/14 [==============================] - 37s 3s/step - loss: 0.3337 - accuracy: 0.8646 - val_loss: 0.3024 - val_accuracy: 0.8911\n",
      "Epoch 68/100\n",
      "14/14 [==============================] - 37s 3s/step - loss: 0.3353 - accuracy: 0.8677 - val_loss: 0.3181 - val_accuracy: 0.8898\n",
      "Epoch 69/100\n",
      "14/14 [==============================] - 37s 3s/step - loss: 0.3330 - accuracy: 0.8645 - val_loss: 0.2780 - val_accuracy: 0.8952\n",
      "Epoch 70/100\n",
      "14/14 [==============================] - 37s 3s/step - loss: 0.3328 - accuracy: 0.8670 - val_loss: 0.3198 - val_accuracy: 0.8851\n",
      "Epoch 71/100\n",
      "14/14 [==============================] - 37s 3s/step - loss: 0.3361 - accuracy: 0.8664 - val_loss: 0.2939 - val_accuracy: 0.8905\n",
      "Epoch 72/100\n",
      "14/14 [==============================] - 37s 3s/step - loss: 0.3372 - accuracy: 0.8679 - val_loss: 0.3034 - val_accuracy: 0.8871\n",
      "Epoch 73/100\n",
      "14/14 [==============================] - 37s 3s/step - loss: 0.3389 - accuracy: 0.8667 - val_loss: 0.2948 - val_accuracy: 0.8955\n",
      "Epoch 74/100\n",
      "14/14 [==============================] - 37s 3s/step - loss: 0.3378 - accuracy: 0.8620 - val_loss: 0.2823 - val_accuracy: 0.8949\n",
      "Epoch 75/100\n",
      "14/14 [==============================] - 37s 3s/step - loss: 0.3302 - accuracy: 0.8713 - val_loss: 0.2776 - val_accuracy: 0.8928\n",
      "Epoch 76/100\n",
      "14/14 [==============================] - 37s 3s/step - loss: 0.3355 - accuracy: 0.8668 - val_loss: 0.2887 - val_accuracy: 0.8918\n",
      "Epoch 77/100\n",
      "14/14 [==============================] - 38s 3s/step - loss: 0.3338 - accuracy: 0.8668 - val_loss: 0.2518 - val_accuracy: 0.9104\n",
      "Epoch 78/100\n",
      "14/14 [==============================] - 37s 3s/step - loss: 0.3312 - accuracy: 0.8684 - val_loss: 0.2930 - val_accuracy: 0.8938\n",
      "Epoch 79/100\n",
      "14/14 [==============================] - 37s 3s/step - loss: 0.3346 - accuracy: 0.8664 - val_loss: 0.2773 - val_accuracy: 0.8999\n",
      "Epoch 80/100\n",
      "14/14 [==============================] - 37s 3s/step - loss: 0.3459 - accuracy: 0.8606 - val_loss: 0.3052 - val_accuracy: 0.8888\n",
      "Epoch 81/100\n",
      "14/14 [==============================] - 37s 3s/step - loss: 0.3411 - accuracy: 0.8623 - val_loss: 0.2883 - val_accuracy: 0.8955\n",
      "Epoch 82/100\n",
      "14/14 [==============================] - 38s 3s/step - loss: 0.3354 - accuracy: 0.8678 - val_loss: 0.2793 - val_accuracy: 0.9003\n",
      "Epoch 83/100\n",
      "14/14 [==============================] - 37s 3s/step - loss: 0.3305 - accuracy: 0.8683 - val_loss: 0.3049 - val_accuracy: 0.8932\n",
      "Epoch 84/100\n",
      "14/14 [==============================] - 38s 3s/step - loss: 0.3362 - accuracy: 0.8643 - val_loss: 0.3091 - val_accuracy: 0.8915\n",
      "Epoch 85/100\n",
      "14/14 [==============================] - 37s 3s/step - loss: 0.3336 - accuracy: 0.8671 - val_loss: 0.2737 - val_accuracy: 0.9009\n",
      "Epoch 86/100\n",
      "14/14 [==============================] - 38s 3s/step - loss: 0.3349 - accuracy: 0.8653 - val_loss: 0.2896 - val_accuracy: 0.8949\n",
      "Epoch 87/100\n",
      "14/14 [==============================] - 38s 3s/step - loss: 0.3308 - accuracy: 0.8676 - val_loss: 0.2931 - val_accuracy: 0.8952\n",
      "Epoch 88/100\n",
      "14/14 [==============================] - 38s 3s/step - loss: 0.3342 - accuracy: 0.8676 - val_loss: 0.3125 - val_accuracy: 0.8834\n",
      "Epoch 89/100\n",
      "14/14 [==============================] - 37s 3s/step - loss: 0.3351 - accuracy: 0.8628 - val_loss: 0.3100 - val_accuracy: 0.8878\n",
      "Epoch 90/100\n",
      "14/14 [==============================] - 37s 3s/step - loss: 0.3334 - accuracy: 0.8681 - val_loss: 0.2596 - val_accuracy: 0.9057\n",
      "Epoch 91/100\n",
      "14/14 [==============================] - 37s 3s/step - loss: 0.3435 - accuracy: 0.8616 - val_loss: 0.3160 - val_accuracy: 0.8834\n",
      "Epoch 92/100\n",
      "14/14 [==============================] - 36s 3s/step - loss: 0.3298 - accuracy: 0.8652 - val_loss: 0.3132 - val_accuracy: 0.8837\n",
      "Epoch 93/100\n",
      "14/14 [==============================] - 37s 3s/step - loss: 0.3359 - accuracy: 0.8690 - val_loss: 0.2816 - val_accuracy: 0.8976\n",
      "Epoch 94/100\n",
      "14/14 [==============================] - 38s 3s/step - loss: 0.3321 - accuracy: 0.8678 - val_loss: 0.2843 - val_accuracy: 0.8945\n",
      "Epoch 95/100\n",
      "14/14 [==============================] - 40s 3s/step - loss: 0.3392 - accuracy: 0.8651 - val_loss: 0.2875 - val_accuracy: 0.8986\n",
      "Epoch 96/100\n",
      "14/14 [==============================] - 39s 3s/step - loss: 0.3415 - accuracy: 0.8577 - val_loss: 0.2934 - val_accuracy: 0.8901\n",
      "Epoch 97/100\n",
      "14/14 [==============================] - 37s 3s/step - loss: 0.3372 - accuracy: 0.8668 - val_loss: 0.2628 - val_accuracy: 0.9077\n",
      "Epoch 98/100\n",
      "14/14 [==============================] - 36s 3s/step - loss: 0.3405 - accuracy: 0.8639 - val_loss: 0.3162 - val_accuracy: 0.8878\n",
      "Epoch 99/100\n",
      "14/14 [==============================] - 40s 3s/step - loss: 0.3377 - accuracy: 0.8640 - val_loss: 0.3136 - val_accuracy: 0.8878\n",
      "Epoch 100/100\n",
      "14/14 [==============================] - 38s 3s/step - loss: 0.3327 - accuracy: 0.8670 - val_loss: 0.3577 - val_accuracy: 0.8712\n"
     ]
    }
   ],
   "source": [
    "\n",
    "history = model.fit(generators.train_generator,\n",
    "                    validation_data=generators.test_generator,\n",
    "                    epochs=100)"
   ]
  },
  {
   "cell_type": "code",
   "execution_count": 61,
   "metadata": {},
   "outputs": [
    {
     "data": {
      "image/png": "[encoded data removed]",
      "text/plain": [
       "<Figure size 864x576 with 1 Axes>"
      ]
     },
     "metadata": {
      "needs_background": "light"
     },
     "output_type": "display_data"
    },
    {
     "name": "stdout",
     "output_type": "stream",
     "text": [
      "[0. 0. 1.]\n"
     ]
    },
    {
     "data": {
      "image/png": "[encoded data removed]",
      "text/plain": [
       "<Figure size 432x288 with 1 Axes>"
      ]
     },
     "metadata": {
      "needs_background": "light"
     },
     "output_type": "display_data"
    }
   ],
   "source": [
    "\n",
    "# Check out our train accuracy and validation accuracy over epochs.\n",
    "train_accuracy = history.history['accuracy']\n",
    "val_accuracy = history.history['val_accuracy']\n",
    "\n",
    "# Set figure size.\n",
    "plt.figure(figsize=(12, 8))\n",
    "\n",
    "# Generate line plot of training, testing loss over epochs.\n",
    "plt.plot(train_accuracy, label='Training Accuracy', color='#185fad')\n",
    "plt.plot(val_accuracy, label='Validation Accuracy', color='orange')\n",
    "\n",
    "# Set title\n",
    "plt.title('Training and Validation Accuracy by Epoch', fontsize = 25)\n",
    "plt.xlabel('Epoch', fontsize = 18)\n",
    "plt.ylabel('Categorical Crossentropy', fontsize = 18)\n",
    "plt.xticks(range(0,50,5), range(0,50,5))\n",
    "\n",
    "plt.legend(fontsize = 18)\n",
    "plt.show();\n",
    "plt.imshow(generators.test_generator.next()[0][0])\n",
    "print(generators.test_generator.next()[1][0])"
   ]
  },
  {
   "cell_type": "markdown",
   "metadata": {},
   "source": [
    "# Testing Accuracy"
   ]
  },
  {
   "cell_type": "code",
   "execution_count": 64,
   "metadata": {},
   "outputs": [
    {
     "name": "stdout",
     "output_type": "stream",
     "text": [
      "3/3 [==============================] - 4s 1s/step - loss: 0.2592 - accuracy: 0.9101\n"
     ]
    },
    {
     "data": {
      "text/plain": [
       "[0.2592245638370514, 0.9100743532180786]"
      ]
     },
     "execution_count": 64,
     "metadata": {},
     "output_type": "execute_result"
    }
   ],
   "source": [
    "model.evaluate(generators.test_generator)"
   ]
  },
  {
   "cell_type": "code",
   "execution_count": 42,
   "metadata": {},
   "outputs": [
    {
     "name": "stdout",
     "output_type": "stream",
     "text": [
      "3/3 [==============================] - 4s 1s/step\n"
     ]
    }
   ],
   "source": [
    "preds = model.predict(generators.test_generator)"
   ]
  },
  {
   "cell_type": "code",
   "execution_count": 43,
   "metadata": {},
   "outputs": [
    {
     "data": {
      "text/html": [
       "<div>\n",
       "<style scoped>\n",
       "    .dataframe tbody tr th:only-of-type {\n",
       "        vertical-align: middle;\n",
       "    }\n",
       "\n",
       "    .dataframe tbody tr th {\n",
       "        vertical-align: top;\n",
       "    }\n",
       "\n",
       "    .dataframe thead th {\n",
       "        text-align: right;\n",
       "    }\n",
       "</style>\n",
       "<table border=\"1\" class=\"dataframe\">\n",
       "  <thead>\n",
       "    <tr style=\"text-align: right;\">\n",
       "      <th></th>\n",
       "      <th>Image</th>\n",
       "      <th>Label</th>\n",
       "    </tr>\n",
       "  </thead>\n",
       "  <tbody>\n",
       "    <tr>\n",
       "      <th>0</th>\n",
       "      <td>test_images/noise/191382-3-1-0.jpg</td>\n",
       "      <td>N</td>\n",
       "    </tr>\n",
       "    <tr>\n",
       "      <th>1</th>\n",
       "      <td>test_images/noise/65381-3-0-6.jpg</td>\n",
       "      <td>N</td>\n",
       "    </tr>\n",
       "    <tr>\n",
       "      <th>2</th>\n",
       "      <td>test_images/females/1717.jpg</td>\n",
       "      <td>F</td>\n",
       "    </tr>\n",
       "    <tr>\n",
       "      <th>3</th>\n",
       "      <td>test_images/noise/23219-5-0-6.jpg</td>\n",
       "      <td>N</td>\n",
       "    </tr>\n",
       "    <tr>\n",
       "      <th>4</th>\n",
       "      <td>test_images/noise/35548-9-2-9.jpg</td>\n",
       "      <td>N</td>\n",
       "    </tr>\n",
       "  </tbody>\n",
       "</table>\n",
       "</div>"
      ],
      "text/plain": [
       "                                Image Label\n",
       "0  test_images/noise/191382-3-1-0.jpg     N\n",
       "1   test_images/noise/65381-3-0-6.jpg     N\n",
       "2        test_images/females/1717.jpg     F\n",
       "3   test_images/noise/23219-5-0-6.jpg     N\n",
       "4   test_images/noise/35548-9-2-9.jpg     N"
      ]
     },
     "execution_count": 43,
     "metadata": {},
     "output_type": "execute_result"
    }
   ],
   "source": [
    "test_data.head()"
   ]
  },
  {
   "cell_type": "code",
   "execution_count": 44,
   "metadata": {},
   "outputs": [
    {
     "data": {
      "text/plain": [
       "array([0., 0., 1.], dtype=float32)"
      ]
     },
     "execution_count": 44,
     "metadata": {},
     "output_type": "execute_result"
    }
   ],
   "source": [
    "generators.test_generator.next()[1][0]"
   ]
  },
  {
   "cell_type": "code",
   "execution_count": 45,
   "metadata": {},
   "outputs": [
    {
     "data": {
      "text/plain": [
       "array([[1.2052179e-01, 6.0175672e-02, 8.1930256e-01],\n",
       "       [4.4956163e-02, 8.5240304e-02, 8.6980355e-01],\n",
       "       [9.8453742e-01, 1.5455143e-02, 7.4130430e-06],\n",
       "       ...,\n",
       "       [7.5898135e-01, 2.4015200e-01, 8.6659129e-04],\n",
       "       [9.9794916e-04, 4.4541755e-03, 9.9454790e-01],\n",
       "       [9.5079947e-01, 4.9199227e-02, 1.3972992e-06]], dtype=float32)"
      ]
     },
     "execution_count": 45,
     "metadata": {},
     "output_type": "execute_result"
    }
   ],
   "source": [
    "preds"
   ]
  },
  {
   "cell_type": "code",
   "execution_count": 46,
   "metadata": {},
   "outputs": [],
   "source": [
    "# Saving the dataframe to use with our Dense NN to use as a voting classifier \n",
    "predic_cnn = pd.DataFrame(preds)\n",
    "\n",
    "predic_cnn.to_csv('predict_cnn.csv', index=False)"
   ]
  },
  {
   "cell_type": "markdown",
   "metadata": {},
   "source": []
  },
  {
   "cell_type": "markdown",
   "metadata": {},
   "source": [
    "<h1> TESTING MIC REAL TIME</h1>"
   ]
  },
  {
   "cell_type": "markdown",
   "metadata": {},
   "source": []
  },
  {
   "cell_type": "code",
   "execution_count": null,
   "metadata": {},
   "outputs": [],
   "source": [
    "# with open(\"microphone-results.wav\", \"wb\") as f:\n",
    "#     f.write(audio.get_wav_data())"
   ]
  },
  {
   "cell_type": "code",
   "execution_count": 138,
   "metadata": {},
   "outputs": [
    {
     "name": "stderr",
     "output_type": "stream",
     "text": [
      "ALSA lib pcm.c:2664:(snd_pcm_open_noupdate) Unknown PCM cards.pcm.rear\n",
      "ALSA lib pcm.c:2664:(snd_pcm_open_noupdate) Unknown PCM cards.pcm.center_lfe\n",
      "ALSA lib pcm.c:2664:(snd_pcm_open_noupdate) Unknown PCM cards.pcm.side\n",
      "ALSA lib pcm_route.c:877:(find_matching_chmap) Found no matching channel map\n",
      "ALSA lib pcm_route.c:877:(find_matching_chmap) Found no matching channel map\n",
      "ALSA lib pcm_route.c:877:(find_matching_chmap) Found no matching channel map\n",
      "ALSA lib pcm_route.c:877:(find_matching_chmap) Found no matching channel map\n",
      "Cannot connect to server socket err = No such file or directory\n",
      "Cannot connect to server request channel\n",
      "jack server is not running or cannot be started\n",
      "JackShmReadWritePtr::~JackShmReadWritePtr - Init not done for -1, skipping unlock\n",
      "JackShmReadWritePtr::~JackShmReadWritePtr - Init not done for -1, skipping unlock\n",
      "Cannot connect to server socket err = No such file or directory\n",
      "Cannot connect to server request channel\n",
      "jack server is not running or cannot be started\n",
      "JackShmReadWritePtr::~JackShmReadWritePtr - Init not done for -1, skipping unlock\n",
      "JackShmReadWritePtr::~JackShmReadWritePtr - Init not done for -1, skipping unlock\n",
      "ALSA lib pcm_oss.c:397:(_snd_pcm_oss_open) Cannot open device /dev/dsp\n",
      "ALSA lib pcm_oss.c:397:(_snd_pcm_oss_open) Cannot open device /dev/dsp\n",
      "ALSA lib confmisc.c:160:(snd_config_get_card) Invalid field card\n",
      "ALSA lib pcm_usb_stream.c:482:(_snd_pcm_usb_stream_open) Invalid card 'card'\n",
      "ALSA lib confmisc.c:160:(snd_config_get_card) Invalid field card\n",
      "ALSA lib pcm_usb_stream.c:482:(_snd_pcm_usb_stream_open) Invalid card 'card'\n",
      "Cannot connect to server socket err = No such file or directory\n",
      "Cannot connect to server request channel\n",
      "jack server is not running or cannot be started\n",
      "JackShmReadWritePtr::~JackShmReadWritePtr - Init not done for -1, skipping unlock\n",
      "JackShmReadWritePtr::~JackShmReadWritePtr - Init not done for -1, skipping unlock\n"
     ]
    },
    {
     "name": "stdout",
     "output_type": "stream",
     "text": [
      "* recording\n",
      "* done recording\n"
     ]
    }
   ],
   "source": [
    "\"\"\"PyAudio example: Record a few seconds of audio and save to a WAVE file.\"\"\"\n",
    "\n",
    "import pyaudio\n",
    "import wave\n",
    "\n",
    "CHUNK = 1024\n",
    "FORMAT = pyaudio.paInt16\n",
    "CHANNELS = 2\n",
    "RATE = 44100\n",
    "RECORD_SECONDS = 5\n",
    "WAVE_OUTPUT_FILENAME = \"output.wav\"\n",
    "\n",
    "p = pyaudio.PyAudio()\n",
    "\n",
    "stream = p.open(format=FORMAT,\n",
    "                channels=CHANNELS,\n",
    "                rate=RATE,\n",
    "                input=True,\n",
    "                frames_per_buffer=CHUNK)\n",
    "\n",
    "print(\"* recording\")\n",
    "\n",
    "frames = []\n",
    "\n",
    "for i in range(0, int(RATE / CHUNK * RECORD_SECONDS)):\n",
    "    data = stream.read(CHUNK)\n",
    "    frames.append(data)\n",
    "\n",
    "print(\"* done recording\")\n",
    "\n",
    "stream.stop_stream()\n",
    "stream.close()\n",
    "p.terminate()\n",
    "\n",
    "wf = wave.open(WAVE_OUTPUT_FILENAME, 'wb')\n",
    "wf.setnchannels(CHANNELS)\n",
    "wf.setsampwidth(p.get_sample_size(FORMAT))\n",
    "wf.setframerate(RATE)\n",
    "wf.writeframes(b''.join(frames))\n",
    "wf.close()"
   ]
  },
  {
   "cell_type": "code",
   "execution_count": 115,
   "metadata": {},
   "outputs": [],
   "source": [
    "# Randomly choosing one of the audio files\n",
    "filename = \"output.wav\""
   ]
  },
  {
   "cell_type": "code",
   "execution_count": 139,
   "metadata": {},
   "outputs": [
    {
     "data": {
      "image/png": "[encoded data removed]",
      "text/plain": [
       "<Figure size 72x72 with 1 Axes>"
      ]
     },
     "metadata": {
      "needs_background": "light"
     },
     "output_type": "display_data"
    }
   ],
   "source": [
    "# Randomly choosing one of the audio files\n",
    "filename = \"output.wav\"\n",
    "# Checking how the image looks like with the frequency restriction\n",
    "X, sample_rate = librosa.load(filename, sr=None, res_type='kaiser_fast')\n",
    "# Setting the size of the image\n",
    "fig = plt.figure(figsize=[1, 1])\n",
    "# This is to get rid of the axes and only get the picture\n",
    "ax = fig.add_subplot(111)\n",
    "ax.axes.get_xaxis().set_visible(False)\n",
    "ax.axes.get_yaxis().set_visible(False)\n",
    "ax.set_frame_on(False)\n",
    "S = librosa.feature.melspectrogram(y=X, sr=sample_rate)\n",
    "librosa.display.specshow(librosa.power_to_db(S, ref=np.max), x_axis='time', y_axis='mel', fmin=50, fmax=280)\n",
    "plt.savefig(\"output.jpg\", dpi=500, bbox_inches='tight',pad_inches=0)\n"
   ]
  },
  {
   "cell_type": "code",
   "execution_count": 147,
   "metadata": {},
   "outputs": [
    {
     "name": "stdout",
     "output_type": "stream",
     "text": [
      "(64, 64, 3)\n"
     ]
    },
    {
     "data": {
      "image/png": "[encoded data removed]",
      "text/plain": [
       "<Figure size 432x288 with 1 Axes>"
      ]
     },
     "metadata": {
      "needs_background": "light"
     },
     "output_type": "display_data"
    }
   ],
   "source": [
    "img = cv2.resize(cv2.imread(\"0.jpg\"), (64,64))\n",
    "plt.imshow(img)\n",
    "print(img.shape)"
   ]
  },
  {
   "cell_type": "code",
   "execution_count": 148,
   "metadata": {},
   "outputs": [],
   "source": [
    "image = pre_gen_binarize(img)"
   ]
  },
  {
   "cell_type": "code",
   "execution_count": 149,
   "metadata": {},
   "outputs": [
    {
     "data": {
      "text/plain": [
       "(64, 64, 1)"
      ]
     },
     "execution_count": 149,
     "metadata": {},
     "output_type": "execute_result"
    }
   ],
   "source": [
    "image.shape"
   ]
  },
  {
   "cell_type": "code",
   "execution_count": 150,
   "metadata": {},
   "outputs": [],
   "source": [
    "image_input = np.array([image])"
   ]
  },
  {
   "cell_type": "code",
   "execution_count": 151,
   "metadata": {},
   "outputs": [
    {
     "name": "stdout",
     "output_type": "stream",
     "text": [
      "1/1 [==============================] - 0s 19ms/step\n"
     ]
    }
   ],
   "source": [
    "pred = model.predict(image_input)"
   ]
  },
  {
   "cell_type": "code",
   "execution_count": 152,
   "metadata": {},
   "outputs": [
    {
     "data": {
      "text/plain": [
       "array([[0.00162176, 0.00372632, 0.9946519 ]], dtype=float32)"
      ]
     },
     "execution_count": 152,
     "metadata": {},
     "output_type": "execute_result"
    }
   ],
   "source": [
    "pred"
   ]
  },
  {
   "cell_type": "markdown",
   "metadata": {},
   "source": [
    "# Confusion Metrics"
   ]
  },
  {
   "cell_type": "code",
   "execution_count": 156,
   "metadata": {},
   "outputs": [
    {
     "name": "stdout",
     "output_type": "stream",
     "text": [
      "3/3 [==============================] - 4s 1s/step\n"
     ]
    }
   ],
   "source": [
    "y_pred = model.predict(generators.test_generator)"
   ]
  },
  {
   "cell_type": "code",
   "execution_count": 157,
   "metadata": {},
   "outputs": [],
   "source": [
    "y_obs = np.argmax(y_pred, axis=1)\n",
    "y_true = generators.test_generator.classes"
   ]
  },
  {
   "cell_type": "code",
   "execution_count": 163,
   "metadata": {},
   "outputs": [
    {
     "name": "stdout",
     "output_type": "stream",
     "text": [
      "Test Accuracy:  0.9100743745774171\n"
     ]
    },
    {
     "data": {
      "image/png": "[encoded data removed]",
      "text/plain": [
       "<Figure size 1440x1080 with 2 Axes>"
      ]
     },
     "metadata": {
      "needs_background": "light"
     },
     "output_type": "display_data"
    }
   ],
   "source": [
    "from sklearn.metrics import accuracy_score, confusion_matrix\n",
    "import seaborn as sns\n",
    "test_acc = accuracy_score(y_true, y_obs)\n",
    "cm = confusion_matrix(y_true, y_obs)\n",
    "\n",
    "print(\"Test Accuracy: \", test_acc)\n",
    "fig, ax = plt.subplots(figsize=(20, 15))\n",
    "sns.heatmap(cm, annot=True, fmt=\"d\")\n",
    "plt.xlabel(\"Predicted\")\n",
    "plt.ylabel(\"true\")\n",
    "plt.show()"
   ]
  },
  {
   "cell_type": "code",
   "execution_count": null,
   "metadata": {},
   "outputs": [],
   "source": []
  }
 ],
 "metadata": {
  "kernelspec": {
   "display_name": "Python 3 (ipykernel)",
   "language": "python",
   "name": "python3"
  },
  "language_info": {
   "codemirror_mode": {
    "name": "ipython",
    "version": 3
   },
   "file_extension": ".py",
   "mimetype": "text/x-python",
   "name": "python",
   "nbconvert_exporter": "python",
   "pygments_lexer": "ipython3",
   "version": "3.10.6"
  }
 },
 "nbformat": 4,
 "nbformat_minor": 2
}
